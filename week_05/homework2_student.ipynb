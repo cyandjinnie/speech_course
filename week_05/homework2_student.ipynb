{
 "cells": [
  {
   "cell_type": "markdown",
   "metadata": {
    "id": "EhkTsE_rVd-n"
   },
   "source": [
    "# Seminar 3 and Homework 2\n",
    "\n",
    "In lectures 3 and 4 you have examined the basics of speech recognition and covered the Connectionist Temporal Classification (CTC) model in detail. You are now ready to train your first \"adult\" speech recognition system!\n",
    "\n",
    "In this joint seminar and homework exercise you will explore speech recongition using Connectionist Temporal Classification (CTC). This seminar and homework are both LARGE and CHALLENGE, so expect to spent a significant amount of time on this. \n",
    "\n",
    "\n",
    "## Seminar 3 (10 Points)\n",
    "\n",
    "In seminar 3 you will implement the CTC forward and backward algorithms in order to calculate the CTC loss and study the diffusion of probability in a CTC trellis.\n",
    "\n",
    "## Homework 2 (40 Points)\n",
    "\n",
    "In this homework you will implement and train a CTC speech recognition model on a subset of the LibriSpeech corpus. This task will involve:\n",
    "\n",
    "- Implementing a Decoder\n",
    "  * Greedy Decoder (2 points)\n",
    "  * Prefix Beam-Search Decoder (10 points)\n",
    "- Creating a dataloader\n",
    "- Implementing a and training a Neural Network for CTC\n",
    "  * DNN\n",
    "  * LSTM\n",
    "  * BiLSTM\n",
    "- Comparing the Properties of these models\n",
    "\n",
    "### Submitting results\n",
    "\n",
    "This Jupyter notebook contains both a seminar and a homework. \n",
    "1. For the seminar deadline please submit this Jupiter Notebook (`.ipynb`) with completed cells of the seminar\n",
    "\n",
    "Save the artifact to a directory named `{your last name}_{your first name}_sem3` and pack them in `.zip` archive.\n",
    "\n",
    "2.  For the homework deadline please submit this Jupiter Notebook (`.ipynb`) with all cells completed.\n",
    "\n",
    "Save the notebook and model weights to a directory named `{your last name}_{your first name}_hw3` and pack them in `.zip` archive.\n"
   ]
  },
  {
   "cell_type": "markdown",
   "metadata": {
    "id": "lnUmkwSbY0Ho"
   },
   "source": [
    "# Lecture recap"
   ]
  },
  {
   "cell_type": "markdown",
   "metadata": {
    "id": "xTS5sHhoY0Ho"
   },
   "source": [
    "## Problem statement"
   ]
  },
  {
   "cell_type": "markdown",
   "metadata": {
    "id": "Tb94FlS2Y0Hp"
   },
   "source": [
    "<p style=\"text-align:center;\"><img src=\"http://drive.google.com/uc?export=view&id=1FFGXZsCgy-uQfCBp7F4w1gaJbIGv6CV2\" height=\"200px\" width=\"700px\">  \n",
    "\n",
    "\n",
    "Define a modified label sequence $\\omega'_{1:2L + 1}$:\n",
    "- add blanks to the beginning and the end of the original label sequence $\\omega_{1:L}$\n",
    "- insert blanks between every pair of labels\n",
    "\n",
    "<p style=\"text-align:center;\"><img src=\"http://drive.google.com/uc?export=view&id=1CEhWtVYrSSkaRtEsJr5QwiH8lMaSQ_uN\" height=\"150px\" width=\"400px\">\n",
    "\n",
    "\n",
    "Define $\\alpha_t(s)$ as the probability of all paths of length $t$ which go through state $\\omega_s'$:"
   ]
  },
  {
   "cell_type": "markdown",
   "metadata": {
    "id": "FUfXCzgBY0Hp"
   },
   "source": [
    "Denote a sequence of **acoustic features** or **observations** as\n",
    "\n",
    "$$\n",
    "    \\mathbf{X}_{1:T} = \\{x_1, \\ldots, x_T\\}\n",
    "$$\n",
    "\n",
    "Define a mapping $\\mathcal{M}$ between words $\\mathbf{w}$ and speech units $\\omega_{1:L}$:\n",
    "\n",
    "$$\n",
    "    \\{\\omega^{(q)}_{1:L_q}\\}^Q_{q = 1} = \\mathcal{M}(\\mathbf{w})\n",
    "$$\n",
    "\n",
    "$$\n",
    "    \\{\\mathbf{w}^{(p)}\\}^P_{p = 1} = \\mathcal{M}^{-1}(\\omega_{1:L})\n",
    "$$\n",
    "\n",
    "For some choices of speech units this mapping is not 1-to-1 ($Q > 1$, $P > 1$). A possible pair of text (green) and speech units (yellow):"
   ]
  },
  {
   "cell_type": "markdown",
   "metadata": {
    "id": "5qHamTYUY0Hq"
   },
   "source": [
    "<p style=\"text-align:center;\"><img src=\"http://drive.google.com/uc?export=view&id=1HWD_SFZzids3Nz67BK_NQ5awkw6yUvLo\" height=\"200px\" width=\"600px\">"
   ]
  },
  {
   "cell_type": "markdown",
   "metadata": {
    "id": "9AofS6uyY0Hq"
   },
   "source": [
    "Automated speech recognition (ASR) is a **discriminative** task $\\rightarrow$ \"Which sequence $\\mathbf{\\hat w}$ is likely given the audio?\":\n",
    "\n",
    "$$\n",
    "    \\mathbf{\\hat w} = \\mathcal{M}^{-1}(\\hat \\omega_{1:L}), \\quad \\hat \\omega_{1:L} = \\arg \\max_{\\hat \\omega_{1: L}} P(\\hat \\omega_{1:L} | \\mathbf{X}_{1: T}; \\theta),\n",
    "$$\n",
    "\n",
    "where $\\theta$ denotes the parameters of the model we are building to solve the problem."
   ]
  },
  {
   "cell_type": "markdown",
   "metadata": {
    "id": "U-7IK0-TY0Hr"
   },
   "source": [
    "## Discriminative state-space models"
   ]
  },
  {
   "cell_type": "markdown",
   "metadata": {
    "id": "1hFDyco4Y0Hr"
   },
   "source": [
    "How feature vectors $\\mathbf{X}_{1: T}$ and speech units $\\omega_{1:L}$ relate or **align** to each other? Two common approaches to constructing models which can align:\n",
    "- state-space models\n",
    "- neural attention mechanisms\n",
    "\n",
    "State-space models represent the space of various alignments in the form of a table (called **trellis**), the rows of which correspond to phonemes, and the columns are observed variables. One alignment is the path in this table from the upper left corner to the lower right.\n",
    "\n",
    "<p style=\"text-align:center;\"><img src=\"http://drive.google.com/uc?export=view&id=1npycuLvYq_-3p_xd6bouR21tfVeOvMUd\" height=\"300px\" width=\"600px\">"
   ]
  },
  {
   "cell_type": "markdown",
   "metadata": {
    "id": "Txs7XA-2Y0Hs"
   },
   "source": [
    "Denote a set of all paths in trellis that map onto the phoneme sequence $\\omega_{1:L}$ as $\\mathcal{A}(\\omega_{1:L})$, and let $\\pi_{1:T} \\in \\mathcal{A}(\\omega_{1:L})$ be an element of this set. Then a discriminative state-space system models $P(\\omega_{1:L} | \\mathbf{X}_{1: T}; \\theta)$ as \n",
    "\n",
    "$$\n",
    "    P(\\omega_{1:L} | \\mathbf{X}_{1: T}; \\theta) = \\sum_{\\pi_{1:T} \\in \\mathcal{A}(\\omega_{1:L})} P(\\pi_{1:T} | \\mathbf{X}_{1:T}; \\theta)\n",
    "$$"
   ]
  },
  {
   "cell_type": "markdown",
   "metadata": {
    "id": "pmxvKSgKY0Hs"
   },
   "source": [
    "Imagine that we have a recurrent neural network parametrized with $\\theta$. The network outputs a distribution $P(z_t|x_t; \\theta)$ over possible speech units $\\omega$ for each frame $x_t$:\n",
    "\n",
    "<p style=\"text-align:center;\"><img src=\"http://drive.google.com/uc?export=view&id=153E-ailMiLPg3joPSx016lGv6S4vXVD2\" height=\"300px\" width=\"550px\">\n",
    "\n",
    "CTC is a discriminative state-space model defined as:\n",
    "    \n",
    "$$\n",
    "    P(\\omega_{1:L} | \\mathbf{X}_{1: T}; \\theta) = \\sum_{\\pi_{1:T} \\in \\mathcal{A}(\\omega_{1:L})} \\prod_{t = 1}^T P(z_t = \\pi_t| x_t; \\theta)\n",
    "$$\n",
    "    \n",
    "- CTC assumes all states conditionally independent\n",
    "- Alignment free -- does not need prior alignment for training"
   ]
  },
  {
   "cell_type": "markdown",
   "metadata": {
    "id": "qg4JIKs4EYtQ"
   },
   "source": [
    "# Setup - Install package, download files, etc..."
   ]
  },
  {
   "cell_type": "code",
   "execution_count": 1,
   "metadata": {
    "id": "Gk1mFIiwve6R"
   },
   "outputs": [],
   "source": [
    "# uncomment if needed. If you run the notebook in Colab, all these libraries are pre-installed\n",
    "# !pip install torch==1.7.1+cu101 torchvision==0.8.2+cu101 torchaudio==0.7.2 -f https://download.pytorch.org/whl/torch_stable.html\n",
    "# !pip install numpy==1.17.5 matplotlib==3.3.3 tqdm==4.54.0\n",
    "\n",
    "# !pip install torch==1.7.1 torchvision==0.8.2 torchaudio==0.7.2 -f https://download.pytorch.org/whl/torch_stable.html\n",
    "# !pip install numpy==1.17.5 matplotlib==3.3.3 tqdm==4.54.0"
   ]
  },
  {
   "cell_type": "code",
   "execution_count": 2,
   "metadata": {
    "colab": {
     "base_uri": "https://localhost:8080/"
    },
    "id": "VwuUeuXXBDPl",
    "outputId": "dab33b67-9dea-4a62-a26d-e4573551c73e"
   },
   "outputs": [],
   "source": [
    "# !pip install arpa"
   ]
  },
  {
   "cell_type": "code",
   "execution_count": 3,
   "metadata": {
    "id": "HN6poM45AAXH"
   },
   "outputs": [],
   "source": [
    "# %%capture\n",
    "# !pip3 install wandb -qqq"
   ]
  },
  {
   "cell_type": "code",
   "execution_count": 4,
   "metadata": {
    "colab": {
     "base_uri": "https://localhost:8080/"
    },
    "id": "fxq-Jmp_Y293",
    "outputId": "67855e64-77be-4771-f6e4-fbc024672f45"
   },
   "outputs": [],
   "source": [
    "# comment out if needed\n",
    "# !mkdir week_05_files\n",
    "# !wget -O week_05_files/utils.py https://raw.githubusercontent.com/yandexdataschool/speech_course/main/week_05/utils.py\n",
    "# !wget -O week_05_files/test_matrix.txt -q https://raw.githubusercontent.com/yandexdataschool/speech_course/main/week_05/test_matrix.txt\n",
    "# !wget -O week_05_files/soft_alignment.txt -q https://raw.githubusercontent.com/yandexdataschool/speech_course/main/week_05/soft_alignment.txt\n",
    "# !wget -O week_05_files/test_decode.txt -q https://raw.githubusercontent.com/yandexdataschool/speech_course/main/week_05/test_decode.txt\n",
    "# !wget -O week_05_files/test_labels.txt -q https://raw.githubusercontent.com/yandexdataschool/speech_course/main/week_05/test_labels.txt\n",
    "# !wget -O week_05_files/3-gram.pruned.1e-7.arpa -q https://raw.githubusercontent.com/yandexdataschool/speech_course/main/week_05/3-gram.pruned.1e-7.arpa"
   ]
  },
  {
   "cell_type": "code",
   "execution_count": 5,
   "metadata": {},
   "outputs": [],
   "source": [
    "import sys\n",
    "sys.path.append(\"/Users/igor/opt/miniconda3/lib/python3.9/site-packages\")"
   ]
  },
  {
   "cell_type": "code",
   "execution_count": 6,
   "metadata": {
    "id": "IM01xHP7Y0Hi"
   },
   "outputs": [
    {
     "name": "stderr",
     "output_type": "stream",
     "text": [
      "/Users/igor/opt/miniconda3/lib/python3.9/site-packages/torchaudio/backend/utils.py:53: UserWarning: \"sox\" backend is being deprecated. The default backend will be changed to \"sox_io\" backend in 0.8.0 and \"sox\" backend will be removed in 0.9.0. Please migrate to \"sox_io\" backend. Please refer to https://github.com/pytorch/audio/issues/903 for the detail.\n",
      "  warnings.warn(\n"
     ]
    }
   ],
   "source": [
    "#!L\n",
    "import math\n",
    "import os\n",
    "import shutil\n",
    "import string\n",
    "import time\n",
    "from collections import defaultdict\n",
    "from typing import List, Tuple, TypeVar, Optional, Callable, Iterable\n",
    "\n",
    "import arpa\n",
    "import matplotlib\n",
    "import matplotlib.pyplot as plt\n",
    "import numpy as np\n",
    "import torch\n",
    "import torchaudio\n",
    "import torch.nn as nn\n",
    "import torch.nn.functional as F\n",
    "import torch.utils.data as data\n",
    "import wandb\n",
    "from matplotlib.colors import LogNorm\n",
    "from torch import optim\n",
    "from tqdm.notebook import tqdm"
   ]
  },
  {
   "cell_type": "code",
   "execution_count": 7,
   "metadata": {
    "id": "4glsVYvk2ZUr",
    "tags": []
   },
   "outputs": [],
   "source": [
    "week_05_path = 'week_05_files'    # Change this path if it is different in your case"
   ]
  },
  {
   "cell_type": "code",
   "execution_count": 8,
   "metadata": {
    "id": "t9lYheNjY0Hn"
   },
   "outputs": [],
   "source": [
    "import week_05_files.utils as utils   # Change relative path if needed"
   ]
  },
  {
   "cell_type": "markdown",
   "metadata": {
    "id": "GLRub0wZY0Hs"
   },
   "source": [
    "# Seminar 3: CTC Forward-Backward Algorithm (10 points)\n",
    "\n",
    "```\n",
    "[ ] (4 points) Implement a Forward\n",
    "[ ] (4 points) Implement a Backward\n",
    "[ ] (2 points) Implement soft alignment\n",
    "```"
   ]
  },
  {
   "cell_type": "markdown",
   "metadata": {
    "id": "Zc1A7_xcwiT5"
   },
   "source": [
    "## Theoretical Recap"
   ]
  },
  {
   "cell_type": "markdown",
   "metadata": {
    "id": "3cP79coczzan"
   },
   "source": [
    "### Forward Algorithm"
   ]
  },
  {
   "cell_type": "markdown",
   "metadata": {
    "id": "PUBy5qg3Y0Ht"
   },
   "source": [
    "$$\n",
    "    \\alpha_t(s) = P(\\omega_{1:s/2}, \\pi_t = \\omega_s' | \\mathbf{X}_{1:T}, \\theta) = \\sum_{\\pi_{1:t - 1} \\in \\mathcal{A}(\\omega_{1:s/2}), \\, \\pi_t = \\omega_s'}  P(\\pi_{1:t} | \\mathbf{X}_{1:T}, \\theta)\n",
    "$$\n",
    "\n",
    "Note that despite the fact that we have moved to the extended sequence $\\omega'$, we are still interested in maximizing the probability of alignments to the original sequence. And step $s$ in the new sequence corresponds to step $s/2$ in the old sequence (rounded to the bottom).\n",
    "\n",
    "The CTC forward algorithm recursively computes the forward variable $\\alpha_t(s)$.\n",
    "\n",
    "<p style=\"text-align:center;\"><img src=\"http://drive.google.com/uc?export=view&id=1QaW0mJ9c3Z0KJVk3pUSyC_kS_pFC_QxS\" height=\"400px\" width=\"600px\">  \n",
    "\n",
    "\n",
    "**Initialization.** We allow all prefixes to start with either a blank ($\\epsilon$) or the first symbol in $\\omega_{1:L}$. Also note that $\\alpha_t(s) = 0,\\ \\forall s < (2L + 1) - 2(T - t) - 1$, because these variables correspond to states for which there are not enough time-steps left to complete the sequence.\n",
    "\n",
    "This gives us the following rules for initialization:\n",
    "\n",
    "$$\n",
    "  \\begin{aligned}\n",
    "    &\\alpha_t(0) = 0, \\forall t & \\\\\n",
    "    &\\alpha_1(1) = P(z_1 = \\epsilon | \\mathbf{X}_{1:T}), &\\\\\n",
    "    &\\alpha_1(2) = P(z_1 = \\omega^{'}_2 | \\mathbf{X}_{1:T}), &\\\\\n",
    "    &\\alpha_1(s) = 0,\\ \\forall s > 2 &\\\\\n",
    "    &\\alpha_t(s) = 0,\\ \\forall s < (2L + 1) - 2(T - t) - 1 &  \\text{top right zeros}\\\\\n",
    "  \\end{aligned}\n",
    "$$\n",
    "\n",
    "**Recursion.** \n",
    "\n",
    "$$\n",
    "  \\begin{aligned}\n",
    "    &\\alpha_t(s) = \\left \\{\n",
    "  \\begin{aligned}\n",
    "    &\\big(\\alpha_{t-1}(s) + \\alpha_{t-1}(s-1) \\big) P(z_t = \\omega^{'}_s | \\mathbf{X}_{1:T}) & \\text{if}\\ \\omega_s^{'} = \\epsilon\\ \\text{or}\\\n",
    "    \\omega_s^{'} = \\omega_{s-2}^{'} \\\\\n",
    "    &\\big(\\alpha_{t-1}(s) + \\alpha_{t-1}(s-1) + \\alpha_{t-1}(s-2)\\big) P(z_t = \\omega^{'}_s | \\mathbf{X}_{1:T}) & \\text{otherwise}\\\\\n",
    "  \\end{aligned} \\right. \n",
    "  \\end{aligned}\n",
    "$$\n",
    "\n",
    "\n",
    "<p style=\"text-align:center;\"><img src=\"http://drive.google.com/uc?export=view&id=1Tre3oFHyjigpqG-GI1xVrOchZAMnRYBK\" height=\"250px\" width=\"650px\">"
   ]
  },
  {
   "cell_type": "markdown",
   "metadata": {
    "id": "hI6wj5hrz9vJ"
   },
   "source": [
    "### Backward Algorithm"
   ]
  },
  {
   "cell_type": "markdown",
   "metadata": {
    "id": "9UCcLgE3zOvS"
   },
   "source": [
    "Define $\\beta_t(s)$ as the probability of all valid alignments $\\omega'_{s:L}$ starting in state $\\omega_s'$:\n",
    "\n",
    "$$\n",
    "    \\beta_t(s) = P(\\omega_{s/2:L}, \\pi_t = \\omega'_s | \\mathbf{X}_{1:T}, \\theta) = \\sum_{\\pi_{t + 1:T} \\in \\mathcal{A}(\\omega_{s/2:L}), \\, \\pi_t = \\omega_s'} P(\\pi_{t + 1:T} | \\mathbf{X}_{1:T}, \\theta)\n",
    "$$\n",
    "\n",
    "The CTC backward algorithm recursively computes the backward variable $\\beta_t(s)$:\n",
    "\n",
    "<p style=\"text-align:center;\"><img src=\"http://drive.google.com/uc?export=view&id=11x3TGAzL2LWfO0ZKpPHegOvv8Iw6ZC0X\" height=\"400px\" width=\"600px\">\n",
    "\n",
    "\n",
    "\n",
    "The formulas for backward algorithm are as follows:\n",
    "\n",
    "$$\n",
    "  \\begin{aligned}\n",
    "    &\\beta_T(2L+1) = 1 &\\\\\n",
    "    &\\beta_T(2L) = 1 & \\\\\n",
    "    &\\beta_T(s) = 0, \\forall s < 2L &\\\\\n",
    "    &\\beta_t(s) = 0,\\ \\forall s > 2t &\\\\\n",
    "    &\\beta_t(2L+2) = 0,\\ \\forall t  & \\text{bottom left zeros} \\\\\n",
    "    &\\beta_t(s) = \\left \\{\n",
    "  \\begin{aligned}\n",
    "    &\\big(\\beta_{t+1}(s) + \\beta_{t+1}(s+1) \\big) P(z_t = \\omega^{'}_s | \\mathbf{X}_{1:T}) & \\text{if}\\ \\omega_s^{'} = \\epsilon\\ \\text{or}\\\n",
    "    \\omega_s^{'} = \\omega_{s+2}^{'} \\\\\n",
    "    &\\big(\\beta_{t+1}(s) +\\beta_{t+1}(s+1) + \\beta_{t+1}(s+2)\\big) P(z_t = \\omega^{'}_s | \\mathbf{X}_{1:T}) & \\text{otherwise}\\\\\n",
    "  \\end{aligned} \\right. \n",
    "  \\end{aligned}\n",
    "$$\n",
    "\n",
    "<p style=\"text-align:center;\"><img src=\"http://drive.google.com/uc?export=view&id=1h7OBZZ02dwZ1mDhRYh7yTy7-UW4NmbXm\" height=\"250px\" width=\"650px\"> "
   ]
  },
  {
   "cell_type": "markdown",
   "metadata": {
    "id": "txfmuahS0Apx"
   },
   "source": [
    "### Alignment and Loss Computation"
   ]
  },
  {
   "cell_type": "markdown",
   "metadata": {
    "id": "CPovJE83zhvY"
   },
   "source": [
    "Use your newfound knowledge of the CTC forward-backward algorithm to obtain a soft-alignment\n",
    "\n",
    "Remember, that the forward variable is computed as follows:\n",
    "\n",
    "The probability of all paths passing through a state $\\pi_t = \\omega_s'$ is the product of forward and backward variables:\n",
    "\n",
    "$$\n",
    "    \\alpha_t(s) \\beta_t(s) = \\sum_{\\pi_{1:T} \\in \\mathcal{A}(\\omega_{1:L}), \\,\\pi_t=\\omega_s'} P(\\pi_{1:T} | \\mathbf{X}_{1:T}, \\theta)\n",
    "$$\n",
    "\n",
    "Then, for any $t$, sum of all such products yields total probability:\n",
    "\n",
    "$$\n",
    "     \\sum_{s = 1}^{2 L + 1} \\alpha_t(s) \\beta_t(s) = P(\\omega_{1:L} | \\mathbf{X}_{1:T}, \\theta)\n",
    "$$\n",
    "\n",
    "We can also use normalized $\\alpha_t(s) \\beta_t(s)$ as a measure of **soft-alignment**:\n",
    "\n",
    "$$\n",
    "    \\text{align}_t(s) = \\frac{\\alpha_t(s) \\beta_t(s)}{\\sum_{s = 1}^{2 L + 1} \\alpha_t(s) \\beta_t(s)}\n",
    "$$\n",
    "\n",
    "You should get something like\n",
    "\n",
    "<p style=\"text-align:center;\"><img src=\"http://drive.google.com/uc?export=view&id=1HAIl9UPReiFQ7dNOZFGfvUWDurFDBZYM\" height=\"300px\" width=\"800px\"> \n",
    "\n",
    "$$\n",
    "  \\text{align}_t(s) = \\frac{\\alpha_t(s)\\beta_t(s)}{\\sum_{s}\\alpha_t(s)\\beta_t(s)}\n",
    "$$\n",
    "\n",
    "\n",
    "Doing the computation in probability space can be numerically unstable, so you should do it in Log-Space using the\n",
    "provided logsumexp operation. Remember to return to prob space at the end. "
   ]
  },
  {
   "cell_type": "markdown",
   "metadata": {
    "id": "1nu4ISUMGt-J"
   },
   "source": [
    "## Implement CTC Forward Algorithm (4 points)"
   ]
  },
  {
   "cell_type": "code",
   "execution_count": 9,
   "metadata": {
    "id": "HgRpr3bjY0Hv"
   },
   "outputs": [],
   "source": [
    "# Helper functions\n",
    "BLANK_SYMBOL = \"_\"\n",
    "\n",
    "class Tokenizer:\n",
    "    \"\"\"\n",
    "    Maps characters to integers and vice versa\n",
    "    \"\"\"\n",
    "    def __init__(self):\n",
    "        self.char_map = {}\n",
    "        self.index_map = {}\n",
    "        for i, ch in enumerate([\"'\", \" \"] + list(string.ascii_lowercase) + [BLANK_SYMBOL]):\n",
    "            self.char_map[ch] = i\n",
    "            self.index_map[i] = ch\n",
    "        \n",
    "    def text_to_indices(self, text: str) -> List[int]:\n",
    "        return [self.char_map[ch] for ch in text]\n",
    "\n",
    "    def indices_to_text(self, labels: List[int]) -> str:                                                                                                                                                                                                                                 \n",
    "        return \"\".join([self.index_map[i] for i in labels])\n",
    "    \n",
    "    def get_symbol_index(self, sym: str) -> int:\n",
    "        return self.char_map[sym]\n",
    "    \n",
    "\n",
    "tokenizer = Tokenizer()\n",
    "\n",
    "NEG_INF = -float(\"inf\")\n",
    "\n",
    "\n",
    "def logsumexp(*args) -> float:\n",
    "    \"\"\"\n",
    "    Log-sum-exp trick for log-domain calculations\n",
    "    See for details: https://en.wikipedia.org/wiki/LogSumExp\n",
    "    \"\"\"\n",
    "    if all(a == NEG_INF for a in args):\n",
    "        return NEG_INF\n",
    "    a_max = max(args)\n",
    "    lsp = math.log(sum(math.exp(a - a_max) for a in args))\n",
    "    return a_max + lsp\n",
    "\n",
    "\n",
    "def modify_sequence(sequence: List[int], blank_idx: int) -> List[int]:\n",
    "    \"\"\"\n",
    "    Modifies sequence which with START, END blanks and between each character\n",
    "    \"\"\"\n",
    "    modified_sequence = []\n",
    "    \n",
    "    for idx in sequence:\n",
    "        modified_sequence += [blank_idx, idx]\n",
    "        \n",
    "    modified_sequence.append(blank_idx)\n",
    "    return modified_sequence"
   ]
  },
  {
   "cell_type": "code",
   "execution_count": 10,
   "metadata": {
    "id": "FSU94H8-xJMw"
   },
   "outputs": [],
   "source": [
    "#!L\n",
    "\n",
    "def forward_algorithm(sequence: List[int], matrix: np.ndarray) -> np.ndarray:\n",
    "    \"\"\"\n",
    "    :param sequence: a string converted to an index array by Tokenizer\n",
    "    :param matrix: A matrix of shape (K, T) with probability distributions over phonemes at each moment of time.\n",
    "    :return: the result of the forward pass of shape (2 * len(sequence) + 1, T)\n",
    "    \"\"\"\n",
    "    # Turn probs into log-probs\n",
    "    matrix = np.log(matrix)\n",
    "    \n",
    "    blank = tokenizer.get_symbol_index(BLANK_SYMBOL)\n",
    "    mod_sequence = modify_sequence(sequence, blank)\n",
    "\n",
    "    # Initialze\n",
    "    alphas = np.full([len(mod_sequence), matrix.shape[1]], NEG_INF)\n",
    "\n",
    "    for t in range(matrix.shape[1]):\n",
    "        for s in range(len(mod_sequence)): \n",
    "            L = len(sequence)\n",
    "            T = matrix.shape[1]\n",
    "            \n",
    "            # First Step\n",
    "            if t == 0:\n",
    "                if s == 0 or s == 1:\n",
    "                    alphas[s, t] = matrix[mod_sequence[s], t]\n",
    "                else:\n",
    "                    alphas[s, t] = NEG_INF\n",
    "                \n",
    "            # Upper diagonal zeros\n",
    "            elif s < (2*L + 1) - 2 * (T - t) - 1:\n",
    "                alphas[s, t] = NEG_INF\n",
    "            else:\n",
    "                # Need to do this stabily\n",
    "                if s == 0:\n",
    "                    alphas[s, t] = alphas[s, t-1] + matrix[mod_sequence[s], t]\n",
    "                elif s == 1:\n",
    "                    alphas[s, t] = logsumexp(alphas[s, t-1], alphas[s-1, t-1]) + matrix[mod_sequence[s], t]\n",
    "                else:\n",
    "                    if mod_sequence[s] == blank or mod_sequence[s] == mod_sequence[s-2]:\n",
    "                        alphas[s, t] = logsumexp(alphas[s, t-1], alphas[s-1, t-1]) + matrix[mod_sequence[s], t]\n",
    "                    else:\n",
    "                        alphas[s, t] = logsumexp(alphas[s, t-1], alphas[s-1, t-1], alphas[s-2, t-1]) + matrix[mod_sequence[s], t]\n",
    "                        \n",
    "    return alphas"
   ]
  },
  {
   "cell_type": "markdown",
   "metadata": {
    "id": "AOSUt5iox8B6"
   },
   "source": [
    "## Implement The CTC Backward Algorithm (4 points)"
   ]
  },
  {
   "cell_type": "code",
   "execution_count": 11,
   "metadata": {
    "id": "hTaA3O8nHArw"
   },
   "outputs": [],
   "source": [
    "def backward_algorithm(sequence: List[int], matrix: np.ndarray) -> np.ndarray:\n",
    "    \"\"\"\n",
    "    :param sequence: a string converted to an index array by Tokenizer\n",
    "    :param matrix: A matrix of shape (K, T) with probability distributions over phonemes at each moment of time.\n",
    "    :return: the result of the backward pass of shape (2 * len(sequence) + 1, T)\n",
    "    \"\"\"\n",
    "    matrix = np.log(matrix)\n",
    "    blank = tokenizer.get_symbol_index(BLANK_SYMBOL)\n",
    "    mod_sequence = modify_sequence(sequence, blank)\n",
    "    betas = np.full([len(mod_sequence), matrix.shape[1]], NEG_INF)\n",
    "    \n",
    "    mod_sequence_len = len(mod_sequence)\n",
    "\n",
    "    for t in reversed(range(matrix.shape[1])):\n",
    "        for s in reversed(range(len(mod_sequence))):\n",
    "            # First Step\n",
    "            if t == matrix.shape[1] - 1:\n",
    "                if s == mod_sequence_len - 1 or s == mod_sequence_len - 2:\n",
    "                    betas[s, t] = 0\n",
    "                else:\n",
    "                    betas[s, t] = NEG_INF\n",
    "\n",
    "            # Lower Diagonal Zeros\n",
    "            elif s > 2 * t:\n",
    "                betas[s, t] = NEG_INF\n",
    "            else:\n",
    "                if s == len(mod_sequence) - 1:\n",
    "                    betas[s, t] = betas[s, t+1] + matrix[mod_sequence[s], t]\n",
    "                elif s == len(mod_sequence) - 2:\n",
    "                    betas[s, t] = logsumexp(betas[s, t+1], betas[s+1, t+1]) + matrix[mod_sequence[s], t]\n",
    "                else:\n",
    "                    if mod_sequence[s] == blank or mod_sequence[s] == mod_sequence[s + 2]:\n",
    "                        betas[s, t] = logsumexp(betas[s, t+1], betas[s+1, t+1]) + matrix[mod_sequence[s], t]\n",
    "                    else:                \n",
    "                        betas[s, t] = logsumexp(betas[s, t+1], betas[s+1, t+1], betas[s+2, t+1]) + matrix[mod_sequence[s], t]\n",
    "    \n",
    "    return betas"
   ]
  },
  {
   "cell_type": "markdown",
   "metadata": {
    "id": "TULzSmkZxgEn"
   },
   "source": [
    "## Obtain Soft-Alignment (2 points)\n"
   ]
  },
  {
   "cell_type": "code",
   "execution_count": 12,
   "metadata": {
    "id": "r9Xo-1tvHEBX"
   },
   "outputs": [],
   "source": [
    "def soft_alignment(labels_indices: List[int], matrix: np.ndarray) -> np.ndarray:\n",
    "    \"\"\"\n",
    "    Returns the alignment coefficients for the input sequence\n",
    "    \"\"\"\n",
    "    alphas = forward_algorithm(labels_indices, matrix)\n",
    "    betas = backward_algorithm(labels_indices, matrix)\n",
    "\n",
    "    # Move from log space back to prob space\n",
    "    align = np.exp(alphas) * np.exp(betas)\n",
    "\n",
    "    # Normalize Alignment\n",
    "    align = align / np.sum(align, axis=0)\n",
    "\n",
    "    return align"
   ]
  },
  {
   "cell_type": "code",
   "execution_count": 13,
   "metadata": {
    "colab": {
     "base_uri": "https://localhost:8080/",
     "height": 401
    },
    "id": "pZDg_MD0xyUu",
    "outputId": "bcfebf73-a9cd-4c15-8732-18185522ccf9"
   },
   "outputs": [
    {
     "name": "stderr",
     "output_type": "stream",
     "text": [
      "/var/folders/sd/skmbxfmj4gj1888rv9vj8tjc0000gn/T/ipykernel_96727/2240846832.py:21: RuntimeWarning: divide by zero encountered in log\n",
      "  im = ax[1].imshow(np.log(align), aspect='auto', interpolation='nearest')\n"
     ]
    },
    {
     "data": {
      "image/png": "[encoded data removed]",
      "text/plain": [
       "<Figure size 1125x375 with 4 Axes>"
      ]
     },
     "metadata": {
      "needs_background": "light"
     },
     "output_type": "display_data"
    }
   ],
   "source": [
    "#!L\n",
    "# Test your implementation\n",
    "\n",
    "# Load numpy matrix, add axis [classes,time]\n",
    "matrix = np.loadtxt(os.path.join(week_05_path, 'test_matrix.txt'))\n",
    "\n",
    "# Create label_sequence\n",
    "labels_indices = tokenizer.text_to_indices('there se ms no good reason for believing that twillc ange')\n",
    "\n",
    "align = soft_alignment(labels_indices, matrix)\n",
    "f, ax = plt.subplots(1, 2, dpi=75, figsize=(15, 5))\n",
    "\n",
    "\n",
    "\n",
    "im = ax[0].imshow(align, aspect='auto', interpolation='nearest')\n",
    "ax[0].set_title(\"Alignment\")\n",
    "ax[0].set_ylabel(\"Phonemes\")\n",
    "ax[0].set_xlabel(\"Time\")\n",
    "f.colorbar(im, ax=ax[0])\n",
    "\n",
    "im = ax[1].imshow(np.log(align), aspect='auto', interpolation='nearest')\n",
    "ax[1].set_title(\"Alignment in log scale\")\n",
    "ax[1].set_ylabel(\"Phonemes\")\n",
    "ax[1].set_xlabel(\"Time\")\n",
    "f.colorbar(im, ax=ax[1])\n",
    "\n",
    "plt.tight_layout()\n",
    "\n",
    "ref_align = np.loadtxt(os.path.join(week_05_path, 'soft_alignment.txt'))\n",
    "assert np.allclose(ref_align, align)"
   ]
  },
  {
   "cell_type": "markdown",
   "metadata": {
    "id": "doD9f6gZ2RXx"
   },
   "source": [
    "# Homework 2: CTC Speech Recognition System\n",
    "You can do this notebook in google collab, or in datasphere (if you are brave enougth)\n",
    "\n",
    "### Grades criteria\n",
    "\n",
    "```\n",
    "[ ] (2 points) Implement a Greedy Decoder\n",
    "[ ] (8 points) Implement a Prefix Decoder\n",
    "[ ] (20 points) Train ASR System, WER criterions: 60-50 -- 6 points, 50-40 -- 10 points, 40-35 -- 14 points, <=35 -- 20 points. + 1 bonus point per 1% WER below 30\n",
    "[ ] (5 points) Compare performance of DNN, RNN and BiRNN models in terms of WER, training time and other properties\n",
    "[ ] (5 points) Compare alignments obtained from DNN, RNN and BiRNN models\n",
    "```\n",
    "\n",
    "The results of this task are two artifacts:\n",
    "1. this Jupiter Notebook (`.ipynb`) with completed cells, training progress and final score.\n",
    "2. file with predictions of your best model for the test data\n",
    "\n",
    "Save the artifacts to a directory named `{your last name}_{your first name}_hw2` and pack them in `.zip` archive.\n"
   ]
  },
  {
   "cell_type": "markdown",
   "metadata": {
    "id": "PfZPlnRjjmOJ"
   },
   "source": [
    "## Implementing a Decoder (10 points)\n",
    "\n",
    "Before you can start having fun with a CTC ASR model, you first need to make sure that you can correctly \"decode\" or generate text from a working model. This can be done in two ways - using a Greedy Decoder, which is simple and fast, or using a Prefix Beam Search decoder, which is slower, but takes advantages of the fact that multiple plath though a CTC trellis can map to the sample sentence. In the following exercise you will implement both decoders."
   ]
  },
  {
   "cell_type": "markdown",
   "metadata": {
    "id": "pQNJqD8mx_0i"
   },
   "source": [
    "### Implement a Greedy Best-Path Decoder! (2 points)\n",
    "\n",
    "After we’ve trained the model, we’d like to use it to find a likely output for a given input. Your goal is to implement a Greedy Best-Path decoder. Remember than in CTC the joint distribution over states factors out into a product of marginals:\n",
    "\n",
    "$${\\tt P}(\\mathbf{z}_{1:T}|\\mathbf{X}_{1:T},\\mathbf{\\theta}) = \\prod_{t = 1}^T{\\tt P}(z_t|\\mathbf{X}_{1:T},\\mathbf{\\theta})$$\n",
    "\n",
    "We can take the most likely output at each time-step, which gives us the alignment with the highest probability:\n",
    "\n",
    "$$\\mathbf{\\pi}^*_{1:T} = \\arg \\max_{\\mathbf{\\pi}_{1:T} } \\prod_{t=1}^T {\\tt P}(z_t = \\pi_t|\\mathbf{X}_{1:T})$$\n",
    "\n",
    "Then merge repeats and remove blanks."
   ]
  },
  {
   "cell_type": "code",
   "execution_count": 14,
   "metadata": {
    "id": "qQhIqk30x4nv"
   },
   "outputs": [],
   "source": [
    "#!L\n",
    "def greedy_decoder(output: torch.Tensor, labels: List[torch.Tensor], \n",
    "                   label_lengths: List[int], collapse_repeated: bool = True) -> Tuple[np.ndarray, np.ndarray]:\n",
    "    \"\"\"\n",
    "    :param output: torch.Tensor of Probs or Log-Probs of shape [batch, time, classes]\n",
    "    :param labels: list of label indices converted to torch.Tensors\n",
    "    :param label_lengths: list of label lengths (without padding)\n",
    "    :param collapse_repeated: whether the repeated characters should be deduplicated\n",
    "    :return: the result of the decoding and the target sequence\n",
    "    \"\"\"\n",
    "    blank_label = tokenizer.get_symbol_index(BLANK_SYMBOL)\n",
    "\n",
    "    # Get max classes\n",
    "    arg_maxes = torch.argmax(output, axis=2)\n",
    "\n",
    "    decodes = []\n",
    "    targets = []\n",
    "\n",
    "    # For targets and decodes remove repeats and blanks\n",
    "    for i, args in enumerate(arg_maxes):\n",
    "        decode = []\n",
    "        true_labels = labels[i][:label_lengths[i]].tolist()\n",
    "        targets.append(tokenizer.indices_to_text(true_labels))\n",
    "\n",
    "        last_blank = True\n",
    "        # Remove repeats, then remove blanks\n",
    "        for j, index in enumerate(args):\n",
    "            next_symbol_idx = int(index)\n",
    "            \n",
    "            if not last_blank and len(decode) > 1 and decode[len(decode)-1] == next_symbol_idx:\n",
    "                continue\n",
    "            elif blank_label == next_symbol_idx:\n",
    "                last_blank = True\n",
    "                continue\n",
    "            else:\n",
    "                last_blank = False\n",
    "                \n",
    "            decode.append(next_symbol_idx)\n",
    "            \n",
    "        decodes.append(tokenizer.indices_to_text(decode))\n",
    "    return decodes, targets"
   ]
  },
  {
   "cell_type": "code",
   "execution_count": 15,
   "metadata": {
    "id": "NXzPxr0DyDCK"
   },
   "outputs": [
    {
     "name": "stdout",
     "output_type": "stream",
     "text": [
      "['there se ms no good reason for believing that twillc ange']\n",
      "['there seems no good reason for believing that it will change']\n"
     ]
    }
   ],
   "source": [
    "#!L\n",
    "# TESTING THE GREEDY DECODER\n",
    "\n",
    "# Load numpy matrix, make its shape be in the form of [batch, classes, time]\n",
    "matrix = np.loadtxt(os.path.join(week_05_path, 'test_matrix.txt'))[np.newaxis, :, :]\n",
    "\n",
    "# Turn into Torch Tensor of shape [batch, time, classes]\n",
    "matrix = torch.Tensor(matrix).transpose(1, 2)\n",
    "\n",
    "# Convert indices into torch.Tensor\n",
    "labels_indices = torch.Tensor(tokenizer.text_to_indices('there seems no good reason for believing that it will change'))\n",
    "\n",
    "# Run the Decoder\n",
    "decodes, targets = greedy_decoder(matrix, [labels_indices], [len(labels_indices)])\n",
    "\n",
    "print(decodes)\n",
    "print(targets)\n",
    "\n",
    "assert decodes[0] == 'there se ms no good reason for believing that twillc ange'\n",
    "assert targets[0] == 'there seems no good reason for believing that it will change'"
   ]
  },
  {
   "cell_type": "markdown",
   "metadata": {
    "id": "oe_g0pXw21Tn"
   },
   "source": [
    "### Implement Prefix Decoding With LM (8 points)"
   ]
  },
  {
   "cell_type": "markdown",
   "metadata": {
    "id": "Hzt2nczZY0Hz"
   },
   "source": [
    "The greedy decoder doesn't take into account the fact that a single output can have many alignments. For example, imagine that the true label for a phoneme sequence is $[a]$. Assume that alignments $[a, a, \\epsilon]$ and $[a, a, a]$ individually have lower probability than the probability $[b, b, b]$, but the sum of their probabilities is higher. In this case, the greedy decoder would choose the wrong alignment $[b, b, b]$ and propose a wrong hypothesis $[b]$ instead of $[a]$.\n",
    "\n",
    "Prefix decoding considers probabilities of multiple paths and merges them. It can also add external language model.\n",
    "\n",
    "<p style=\"text-align:center;\"><img src=\"http://drive.google.com/uc?export=view&id=1_X9NfoSe8HLKfAErDtr0rBsIxoejA1kq\" height=\"500px\" width=\"900px\"> \n",
    "\n",
    "[(picture source)](https://distill.pub/2017/ctc/)"
   ]
  },
  {
   "cell_type": "markdown",
   "metadata": {
    "id": "UpAahfOPY0Hz"
   },
   "source": [
    "Prefix decoding algorithm has 3 nested loops:\n",
    "- over time - we extend prefixes up to T times\n",
    "- over prefixes in the beam\n",
    "- over possible extensions of a prefix\n",
    "\n",
    "Each prefix can be extended in three possible ways:\n",
    "- with a blank\n",
    "- with a repeating character\n",
    "- with a non-repeating character\n",
    "\n",
    "We must keep track of two probabilities per prefix:\n",
    "- The probability of prefix ending with blank $P_b(t, s)$. \n",
    "- The probability of prefix not ending with blank $P_{nb}(t, s)$\n",
    "\n",
    "Here $t$ denotes time step and $s$ denotes a prefix we got after $t$ time steps.\n",
    "\n",
    "We start with an empty string prefix: \n",
    "\n",
    "$$\n",
    "    P_b(0, \\text{\"\"}) = 1\n",
    "$$\n",
    "$$\n",
    "    P_{nb}(0, \\text{\"\"}) = 0\n",
    "$$\n",
    "\n",
    "If we extend $s$ with a blank, update the probability of ending with a blank:\n",
    "\n",
    "$$\n",
    "    P_b(t, s) = P(\\epsilon | x_t) \\cdot (P_b(t - 1, s) + P_{nb}(t - 1, s))\n",
    "$$\n",
    "\n",
    "The prefix $s$ is not updated because blanks are eliminated in the end.\n",
    "\n",
    "If we extend with a repeat character $c$, there are two options:\n",
    "1. The previous symbol is a blank, and now we extend the prefix\n",
    "2. The previous symbol is not a blank, so we don't extend the prefix (repeats are merged)\n",
    "\n",
    "In this case, the probability $P_{nb}$ is updated as follows:\n",
    "\n",
    "$$\n",
    "    P_{nb}(t, s + c) = P(c | x_t) \\cdot P_b(t - 1, s)\n",
    "$$\n",
    "$$\n",
    "    P_{nb}(t, s) = P(c | x_t) \\cdot P_{nb}(t - 1, s)\n",
    "$$\n",
    "\n",
    "Finally, consider extending $s$ at time $t$ with a non-repeat character. It can follow both blank and non-blank characters, so the probability $P_{nb}$ is updated as follows:\n",
    "\n",
    "$$\n",
    "    P_{nb}(t, s + c) = P(c | x_t) \\cdot (P_b(t - 1, s) + P_{nb}(t - 1, s))\n",
    "$$\n",
    "\n",
    "We may also want to apply a language model during decoding, but only in the case we have a new complete word. This happens when the current symbol is a non-repeat space. As CTC is a discriminative model, LMs can only be integrated as a heuristic:\n",
    "\n",
    "$$\n",
    "    \\mathbf{w}^* = \\arg \\max_\\mathbf{w} \\underbrace{P(\\mathbf{w} | \\mathbf{X}_{1:T})}_{\\text{CTC prob}} \\cdot \\underbrace{P(\\mathbf{w})^{\\alpha}}_{\\text{LM prob}} \\cdot \\underbrace{|\\mathbf{w}|^\\beta}_{\\text{Length correction}}\n",
    "$$\n",
    "\n",
    "The formula for an update of $P_{nb}$ when LM is used and the current symbol is a non-repeat space:\n",
    "\n",
    "$$\n",
    "    P_{nb}(t, s + c) = P_{\\text{LM}}(s)^\\alpha \\cdot |s|^\\beta \\cdot P(c | x_t) \\cdot (P_b(t - 1, s) + P_{nb}(t - 1, s))\n",
    "$$"
   ]
  },
  {
   "cell_type": "code",
   "execution_count": 16,
   "metadata": {
    "id": "AqYtZjJhY0H0"
   },
   "outputs": [],
   "source": [
    "LanguageModel = TypeVar(\"LanguageModel\")\n",
    "# Helper function\n",
    "\n",
    "class Beam:\n",
    "    def __init__(self, beam_size: int) -> None:\n",
    "        self.beam_size = beam_size\n",
    "        \n",
    "        fn = lambda : (NEG_INF, NEG_INF)\n",
    "        self.candidates = defaultdict(fn)\n",
    "        self.top_candidates_list = [(tuple(), (0.0, NEG_INF))]\n",
    "        \n",
    "    def get_probs_for_prefix(self, prefix: str) -> Tuple[float, float]:\n",
    "        p_blank, p_not_blank = self.candidates[prefix]\n",
    "        return p_blank, p_not_blank\n",
    "        \n",
    "    def update_probs_for_prefix(self, prefix: str, next_p_blank: float, next_p_not_blank: float) -> None:\n",
    "        self.candidates[prefix] = (next_p_blank, next_p_not_blank)\n",
    "        \n",
    "    def update_top_candidates_list(self) -> None:\n",
    "        top_candidates = sorted(\n",
    "            self.candidates.items(), \n",
    "            key=lambda x: logsumexp(*x[1]), \n",
    "            reverse=True\n",
    "        )\n",
    "        self.top_candidates_list = top_candidates[:self.beam_size]\n",
    "        \n",
    "\n",
    "def calculate_probability_score_with_lm(lm: LanguageModel, prefix: str) -> float:\n",
    "    text = tokenizer.indices_to_text(prefix).upper().strip()    # Use upper case for LM and remove the trailing space\n",
    "    lm_prob = lm.log_p(text)             \n",
    "    score = lm_prob / np.log10(np.e)    # Convert to natural log, as ARPA LM uses log10   \n",
    "    return score"
   ]
  },
  {
   "cell_type": "code",
   "execution_count": 17,
   "metadata": {
    "id": "SJ2pts572m5W"
   },
   "outputs": [],
   "source": [
    "#!L\n",
    "\n",
    "def decode(probs: np.ndarray, beam_size: int = 5, lm: Optional[LanguageModel] = None, \n",
    "           prune: float = 1e-5, alpha: float = 0.1, beta: float = 2):\n",
    "    \"\"\"\n",
    "    :param probs: A matrix of shape (T, K) with probability distributions over phonemes at each moment of time.\n",
    "    :param beam_size: the size of beams\n",
    "    :lm: arpa language model\n",
    "    :prune: the minimal probability for a symbol at which it can be added to a prefix\n",
    "    :alpha: the parameter to de-weight the LM probability\n",
    "    :beta: the parameter to up-weight the length correction term\n",
    "    :return: the prefix with the highest sum of probabilites P_blank and P_not_blank\n",
    "    \"\"\"\n",
    "    T, S = probs.shape\n",
    "    probs = np.log(probs)\n",
    "    blank = tokenizer.get_symbol_index(BLANK_SYMBOL)\n",
    "    space = tokenizer.get_symbol_index(\" \")\n",
    "    prune = NEG_INF if prune == 0.0 else np.log(prune)\n",
    "    \n",
    "    beam = Beam(beam_size)\n",
    "    for t in range(T):\n",
    "        next_beam = Beam(beam_size)\n",
    "\n",
    "        for s in range(S):\n",
    "            p = probs[t, s]\n",
    "            if p < prune:    # Prune the vocab\n",
    "                continue\n",
    "\n",
    "            for prefix, (p_blank, p_not_blank) in beam.top_candidates_list:\n",
    "                if s == blank:                    \n",
    "                    p_b, p_nb = next_beam.get_probs_for_prefix(prefix)\n",
    "                    next_beam.update_probs_for_prefix(\n",
    "                        prefix=prefix,\n",
    "                        next_p_blank=logsumexp(p_b, p + logsumexp(p_blank, p_not_blank)),\n",
    "                        next_p_not_blank=p_nb\n",
    "                    )\n",
    "                    continue\n",
    "\n",
    "                end_t = prefix[-1] if prefix else None\n",
    "                n_prefix = prefix + (s,)\n",
    "                    \n",
    "                if s == end_t:\n",
    "                    p_b, p_nb = next_beam.get_probs_for_prefix(n_prefix)\n",
    "                    next_beam.update_probs_for_prefix(\n",
    "                        prefix=n_prefix,\n",
    "                        next_p_blank=p_b,\n",
    "                        next_p_not_blank=logsumexp(p_nb, p + p_blank)\n",
    "                    )\n",
    "                    \n",
    "                    p_b, p_nb = next_beam.get_probs_for_prefix(prefix)\n",
    "                    next_beam.update_probs_for_prefix(\n",
    "                        prefix=prefix,\n",
    "                        next_p_blank=p_b,\n",
    "                        next_p_not_blank=logsumexp(p_nb, p + p_not_blank)\n",
    "                    )\n",
    "                elif s == space and end_t is not None and lm is not None:\n",
    "                    p_b, p_nb = next_beam.get_probs_for_prefix(n_prefix)\n",
    "                    score = calculate_probability_score_with_lm(lm, n_prefix)\n",
    "                    length = len(tokenizer.indices_to_text(prefix))\n",
    "                    \n",
    "                    next_beam.update_probs_for_prefix(\n",
    "                        prefix=n_prefix,\n",
    "                        next_p_blank=p_b,\n",
    "                        next_p_not_blank=logsumexp(p_nb, score * alpha + np.log(length) * beta + p + logsumexp(p_blank, p_not_blank))\n",
    "                    )\n",
    "                else:\n",
    "                    p_b, p_nb = next_beam.get_probs_for_prefix(n_prefix)\n",
    "                    next_beam.update_probs_for_prefix(\n",
    "                        prefix=n_prefix,\n",
    "                        next_p_blank=p_b,\n",
    "                        next_p_not_blank=logsumexp(p_nb, p + logsumexp(p_blank, p_not_blank))\n",
    "                    )\n",
    "\n",
    "        next_beam.update_top_candidates_list()\n",
    "        beam = next_beam\n",
    "\n",
    "    best = beam.top_candidates_list[0]\n",
    "    return best[0], -logsumexp(*best[1])\n",
    "\n",
    "\n",
    "def beam_search_decoder(probs: np.ndarray, labels: List[List[int]], label_lengths: List[int], \n",
    "                        input_lengths: List[int], lm: LanguageModel, beam_size: int = 5,\n",
    "                        prune: float = 1e-3, alpha: float = 0.1, beta: float = 0.1):\n",
    "    probs = probs.cpu().detach().numpy()\n",
    "    decodes, targets = [], []\n",
    "    \n",
    "    for i, prob in enumerate(probs):\n",
    "        targets.append(tokenizer.indices_to_text(labels[i][:label_lengths[i]].tolist()))\n",
    "        int_seq, _ = decode(prob[:input_lengths[i]], lm=lm, beam_size=beam_size, prune=prune, alpha=alpha, beta=beta)\n",
    "        decodes.append(tokenizer.indices_to_text(int_seq))\n",
    "        \n",
    "    return decodes, targets"
   ]
  },
  {
   "cell_type": "code",
   "execution_count": 18,
   "metadata": {
    "id": "m2HR1xkUY0H0"
   },
   "outputs": [],
   "source": [
    "# Create LM\n",
    "alm = arpa.loadf(os.path.join(week_05_path, '3-gram.pruned.1e-7.arpa'))[0]\n",
    "alm._unk = '<UNK>'"
   ]
  },
  {
   "cell_type": "code",
   "execution_count": 19,
   "metadata": {
    "id": "39O8ZrtJ24k9",
    "tags": []
   },
   "outputs": [],
   "source": [
    "#!L\n",
    "# TESTING PREFIX Decoder\n",
    "\n",
    "# Load numpy matrix, add axis [batch, classes, time]\n",
    "matrix = np.loadtxt(os.path.join(week_05_path, 'test_matrix.txt'))[np.newaxis, :, :]\n",
    "\n",
    "# Turn into Torch Tensor of shape [batch, time, classes]\n",
    "matrix = torch.Tensor(matrix).transpose(1, 2)\n",
    "\n",
    "labels_indices = torch.Tensor(tokenizer.text_to_indices('there seems no good reason for believing that it will change'))\n",
    "\n",
    "# Run the Decoder\n",
    "decodes, targets = beam_search_decoder(\n",
    "    matrix, [labels_indices], [len(labels_indices)], [matrix.size()[1]], \n",
    "    lm=None, beam_size=5, prune=1e-3, alpha=0.1, beta=0.3\n",
    ")\n",
    "\n",
    "assert decodes[0] == 'there se ms no good reason for believing that twil c ange', decodes[0]\n",
    "assert targets[0] == 'there seems no good reason for believing that it will change'\n",
    "\n",
    "decodes, targets = beam_search_decoder(\n",
    "    matrix, [labels_indices], [len(labels_indices)], [matrix.size()[1]], \n",
    "    lm=alm, beam_size=5, prune=1e-3, alpha=0.1, beta=0.3\n",
    ")\n",
    "\n",
    "assert decodes[0] == 'there seems no good reason for believing that twil c ange', decodes[0]\n",
    "assert targets[0] == 'there seems no good reason for believing that it will change'"
   ]
  },
  {
   "cell_type": "markdown",
   "metadata": {
    "id": "55HlLr7W63JJ"
   },
   "source": [
    "## Implementing, training and evaluationg your CTC ASR model"
   ]
  },
  {
   "cell_type": "markdown",
   "metadata": {
    "id": "yyU-wpIU67yu"
   },
   "source": [
    "### Create a Dataloader\n",
    "\n",
    "The first step is to create a dataloader to download and load and preprocess LibriSpeech acoustic data. \n",
    "\n",
    "The creative options you have at this stage are:\n",
    "\n",
    "* The sample rate and number of mel-bins.\n",
    "* Various forms of data agumentation"
   ]
  },
  {
   "cell_type": "code",
   "execution_count": 21,
   "metadata": {
    "colab": {
     "base_uri": "https://localhost:8080/",
     "height": 81,
     "referenced_widgets": [
      "5de35340d6844d229bd8ce7aef425e29",
      "39b18c3bb5e74345af203a673160e75a",
      "6ae4780ddda84918ac85b1b2df8b8d35",
      "f270e58c76234ed9a532ddf73fef56b9",
      "3d20813547484685b82488b48047f8cb",
      "c5f74921d7a241abb0faf420038bba2f",
      "00fad4fd55734855b6c7a6064f5f5539",
      "3446a1862240433986859ff654da072e",
      "fea0998bea934670936c784dd9fc39c9",
      "a5175588d5a24d8ba90d699887e5b8bb",
      "fabcad8fad7d40c5bd07debd55b0a184",
      "d859df92a88742adb725137b0105d40b",
      "5d27efc374ef4ee194630ef570e7711a",
      "57612ae51b3b48c9be2fec9ffc78feae",
      "91a64e7a24044c7cafa46a8fb7674e8d",
      "831bda93ff3c47f7aa656c7d74b35307",
      "c6e704f8a8d94193bab65f6b9fa8b923",
      "4c4bfd62d26b4a028382ee2f57172d4a",
      "22067a7eff2846d980ed8709b5ccf34d",
      "ebc2bb77d43e46d9be161b708f5aa72c",
      "eddb4d0949074c02b2c11bada933e0dc",
      "0aaae5f2d48346d0b628c190a3f303c6"
     ]
    },
    "id": "qaeFHkHT2jqu",
    "outputId": "6bd7dff5-cdd1-4461-d398-3ad5e42e01a7"
   },
   "outputs": [],
   "source": [
    "#!L\n",
    "# Download LibriSpeech 100hr training and test data\n",
    "\n",
    "if not os.path.isdir(\"./data\"):\n",
    "    os.makedirs(\"./data\")\n",
    "\n",
    "train_dataset = torchaudio.datasets.LIBRISPEECH(\"./data\", url=\"train-clean-100\", download=True)\n",
    "test_dataset = torchaudio.datasets.LIBRISPEECH(\"./data\", url=\"test-clean\", download=True)"
   ]
  },
  {
   "cell_type": "code",
   "execution_count": 22,
   "metadata": {},
   "outputs": [],
   "source": [
    "def plot_spectrogram(spec, title=None, ylabel=\"freq_bin\", aspect=\"auto\", xmax=None):\n",
    "    fig, axs = plt.subplots(1, 1)\n",
    "    axs.set_title(title or \"Spectrogram (db)\")\n",
    "    axs.set_ylabel(ylabel)\n",
    "    axs.set_xlabel(\"frame\")\n",
    "    im = axs.imshow(librosa.power_to_db(spec), origin=\"lower\", aspect=aspect)\n",
    "    if xmax:\n",
    "        axs.set_xlim((0, xmax))\n",
    "    fig.colorbar(im, ax=axs)\n",
    "    plt.show(block=False)"
   ]
  },
  {
   "cell_type": "code",
   "execution_count": null,
   "metadata": {},
   "outputs": [],
   "source": [
    "example = test_dataset[0]\n",
    "print(example)\n",
    "plot_spectrogram(example, \"Example audio input\")"
   ]
  },
  {
   "cell_type": "code",
   "execution_count": null,
   "metadata": {
    "id": "ZFSPjx7zY0H2"
   },
   "outputs": [],
   "source": [
    "#!L\n",
    "\n",
    "import torchaudio.transforms as T\n",
    "\n",
    "n_fft = 1024\n",
    "win_length = None\n",
    "hop_length = 512\n",
    "n_mels = 128\n",
    "\n",
    "mel_spectrogram = lambda: T.MelSpectrogram(\n",
    "    sample_rate=sample_rate,\n",
    "    n_fft=n_fft,\n",
    "    win_length=win_length,\n",
    "    hop_length=hop_length,\n",
    "    center=True,\n",
    "    pad_mode=\"reflect\",\n",
    "    power=2.0,\n",
    "    norm=\"slaney\",\n",
    "    onesided=True,\n",
    "    n_mels=n_mels,\n",
    "    mel_scale=\"htk\",\n",
    ")\n",
    "\n",
    "# For train you can use SpecAugment data aug here.\n",
    "train_audio_transforms = nn.Sequential(\n",
    "    #Add features transformations here\n",
    "                ########################\n",
    "                # YOUR CODE HERE\n",
    "                ########################\n",
    "    #Can add data augmentation here!\n",
    "                ########################\n",
    "                # YOUR CODE HERE\n",
    "                ########################\n",
    ")\n",
    "\n",
    "test_audio_transforms = nn.Sequential(\n",
    "    #Add feature transformations here\n",
    "                ########################\n",
    "                # YOUR CODE HERE\n",
    "                ########################\n",
    ")"
   ]
  },
  {
   "cell_type": "code",
   "execution_count": null,
   "metadata": {
    "id": "noWmJGQe67IJ"
   },
   "outputs": [],
   "source": [
    "class Collate:\n",
    "  def __init__(self, data_type = 'test') -> None:\n",
    "        super(Collate, self).__init__() \n",
    "\n",
    "        self.data_type = data_type\n",
    "\n",
    "  def __call__(self, data: torchaudio.datasets.librispeech.LIBRISPEECH) -> Tuple[List[torch.Tensor], ...]:\n",
    "        \"\"\"\n",
    "        :param data: is a list of tuples of [features, label], where features has dimensions [n_features, length]\n",
    "        \"returns features, lengths, labels: \n",
    "              features is a Tensor [batchsize, features, max_length]\n",
    "              lengths is a Tensor of lengths [batchsize]\n",
    "              labels is a Tesnor of targets [batchsize]\n",
    "        \"\"\"\n",
    "\n",
    "        spectrograms = []\n",
    "        labels = []\n",
    "        input_lengths = []\n",
    "        label_lengths = []\n",
    "        for (waveform, _, utterance, _, _, _) in data:\n",
    "            if self.data_type == 'train':\n",
    "                spec = train_audio_transforms(waveform).squeeze(0).transpose(0, 1)\n",
    "            elif self.data_type == 'test':\n",
    "                spec = test_audio_transforms(waveform).squeeze(0).transpose(0, 1)\n",
    "            else:\n",
    "                raise Exception('data_type should be train or valid')\n",
    "            spectrograms.append(spec)\n",
    "            label = torch.Tensor(tokenizer.text_to_indices(utterance.lower()))\n",
    "            labels.append(label)\n",
    "            input_lengths.append(spec.shape[0] // 2)\n",
    "            label_lengths.append(len(label))\n",
    "\n",
    "        spectrograms = nn.utils.rnn.pad_sequence(spectrograms, batch_first=True).unsqueeze(1).transpose(2, 3)\n",
    "        labels = nn.utils.rnn.pad_sequence(labels, batch_first=True)\n",
    "\n",
    "        return spectrograms, labels, input_lengths, label_lengths\n"
   ]
  },
  {
   "cell_type": "markdown",
   "metadata": {
    "id": "kPYITlXT7AoG"
   },
   "source": [
    "### Implement a Neural Network Model\n",
    "\n",
    "You should try out a few different model types:\n",
    "- Feed-Forward Model (DNN)\n",
    "- Recurrent Model (GRU or LSTM)\n",
    "- Bidirectional Recurrent Model (bi-GRU or bi-LSTM)\n",
    "- Something different for bonus points\n",
    "\n",
    "Before any of this models you can use convolutional layers, as shown in the example below\n",
    "\n",
    "After your experiments you should write a report with comparison of different models in terms of different features, for example: parameters, training speed, resulting quality, spectrogram properties, and data augmentations. Remember, that for full mark you need to achive good WER \n",
    "\n",
    "WER criterions: 60-50 -- 6 points, 50-40 -- 10 points, 40-35 -- 14 points, <= 35 -- 20 points"
   ]
  },
  {
   "cell_type": "code",
   "execution_count": null,
   "metadata": {
    "id": "c1eUPtQ57EoX"
   },
   "outputs": [],
   "source": [
    "#!L\n",
    "\n",
    "# Our model classes are just examples, you can change them as you want\n",
    "\n",
    "# Define model\n",
    "class CNNLayerNorm(nn.Module):\n",
    "    \"\"\"Layer normalization built for CNNs input\"\"\"\n",
    "\n",
    "    def __init__(self, n_feats: int) -> None:\n",
    "        super(CNNLayerNorm, self).__init__()\n",
    "        self.layer_norm = nn.LayerNorm(n_feats)\n",
    "\n",
    "    def forward(self, x: torch.Tensor) -> torch.Tensor:\n",
    "        # x (batch, channel, feature, time)\n",
    "        x = x.transpose(2, 3).contiguous()  # (batch, channel, time, feature)\n",
    "        x = self.layer_norm(x)\n",
    "        return x.transpose(2, 3).contiguous()  # (batch, channel, feature, time)\n",
    "\n",
    "\n",
    "class ResidualCNN(nn.Module):\n",
    "    \"\"\"Residual CNN inspired by https://arxiv.org/pdf/1603.05027.pdf\n",
    "        except with layer norm instead of batch norm\n",
    "    \"\"\"\n",
    "\n",
    "    def __init__(self, in_channels: int, out_channels: int, kernel: int, stride: int, dropout: float, n_feats: int) -> None:\n",
    "        super(ResidualCNN, self).__init__()\n",
    "\n",
    "        ########################\n",
    "        # YOUR CODE HERE\n",
    "        ########################\n",
    "\n",
    "    def forward(self, x: torch.Tensor) -> torch.Tensor:\n",
    "        residual = x  # (batch, channel, feature, time)\n",
    "        x = # YOUR CODE\n",
    "        x += residual\n",
    "        return x  # (batch, channel, feature, time)\n",
    "\n",
    "\n",
    "class FeatureExtractor(nn.Module):\n",
    "\n",
    "    def __init__(self, n_cnn_layers: int, n_rnn_layers: int, rnn_dim: int,\n",
    "                 n_feats: int, stride: int = 2, dropout: float = 0.1) -> None:\n",
    "        super(FeatureExtractor, self).__init__()\n",
    "        n_feats = n_feats // 2\n",
    "        self.cnn = nn.Conv2d(1, 32, 3, stride=stride, padding=3 // 2)  # cnn for extracting heirachal features\n",
    "\n",
    "        # n residual cnn layers with filter size of 32\n",
    "        self.rescnn_layers = # YOUR CODE\n",
    "        self.fully_connected = # YOUR CODE\n",
    "      \n",
    "\n",
    "    def forward(self, x: torch.Tensor) -> torch.Tensor:\n",
    "        x = self.cnn(x)\n",
    "        x = self.rescnn_layers(x)\n",
    "        sizes = x.size()\n",
    "        x = x.view(sizes[0], sizes[1] * sizes[2], sizes[3])  # (batch, feature, time)\n",
    "        x = x.transpose(1, 2)  # (batch, time, feature)\n",
    "        x = self.fully_connected(x)\n",
    "        return x\n",
    "\n",
    "\n",
    "class CTCDNN(nn.Module):\n",
    "\n",
    "    def __init__(self, n_cnn_layers: int, n_rnn_layers: int, rnn_dim: int, n_class: int, \n",
    "                 n_feats: int, stride: int = 2, dropout: float = 0.1) -> None:\n",
    "        super(CTCDNN, self).__init__()\n",
    "        \n",
    "        self.feature_extractor = FeatureExtractor(n_cnn_layers, n_rnn_layers, rnn_dim,\n",
    "                 n_feats, stride, dropout)\n",
    "        \n",
    "        ########################\n",
    "        # YOUR CODE HERE\n",
    "        ########################\n",
    "\n",
    "        self.classifier = nn.Linear(rnn_dim, n_class)\n",
    "\n",
    "    def forward(self, x: torch.Tensor, input_lengths: torch.Tensor) -> torch.Tensor:\n",
    "            x = self.feature_extractor(x)\n",
    "            x = self.intermediate_layers(x)\n",
    "            x = self.classifier(x)\n",
    "            return x\n",
    "\n",
    "class CTCRNN(nn.Module):\n",
    "\n",
    "    def __init__(self, n_cnn_layers: int, n_rnn_layers: int, rnn_dim: int, n_class: int, \n",
    "                 n_feats: int, stride: int = 2, dropout: float = 0.1) -> None:\n",
    "        super(CTCRNN, self).__init__()\n",
    "\n",
    "        self.feature_extractor = FeatureExtractor(n_cnn_layers, n_rnn_layers, rnn_dim,\n",
    "                        n_feats, stride, dropout)\n",
    "\n",
    "        ########################\n",
    "        # YOUR CODE HERE\n",
    "        ########################\n",
    "\n",
    "\n",
    "        self.classifier = nn.Linear(rnn_dim, n_class)\n",
    "\n",
    "    def forward(self, x: torch.Tensor, input_lengths: torch.Tensor) -> torch.Tensor:\n",
    "            x = self.feature_extractor(x)\n",
    "            x, _ = self.intermediate_layers(x)\n",
    "            x = self.classifier(x)\n",
    "            return x\n",
    "\n",
    "\n",
    "class CTCBiRNN(nn.Module):\n",
    "\n",
    "    def __init__(self, n_cnn_layers: int, n_rnn_layers: int, rnn_dim: int, n_class: int, \n",
    "                 n_feats: int, stride: int = 2, dropout: float = 0.1) -> None:\n",
    "        super(CTCBiRNN, self).__init__()\n",
    "        \n",
    "        self.feature_extractor = FeatureExtractor(n_cnn_layers, n_rnn_layers, rnn_dim,\n",
    "                 n_feats, stride, dropout)\n",
    "\n",
    "        ########################\n",
    "        # YOUR CODE HERE\n",
    "        ########################\n",
    "\n",
    "\n",
    "        self.classifier = nn.Linear(2*rnn_dim, n_class)\n",
    "\n",
    "\n",
    "    def forward(self, x: torch.Tensor, input_lengths: torch.Tensor) -> torch.Tensor:\n",
    "            x = self.feature_extractor(x)\n",
    "            x, _ = self.intermediate_layers(x)\n",
    "            x = self.classifier(x)\n",
    "            return x"
   ]
  },
  {
   "cell_type": "markdown",
   "metadata": {
    "id": "fmzKVa497Tav"
   },
   "source": [
    "### Training and Evaluation Code"
   ]
  },
  {
   "cell_type": "code",
   "execution_count": null,
   "metadata": {
    "id": "v_O37QIX3nft"
   },
   "outputs": [],
   "source": [
    "#!L\n",
    "\n",
    "def train(model: nn.Module, device: str, train_loader: data.DataLoader, \n",
    "          criterion: nn.Module, optimizer: torch.optim.Optimizer, \n",
    "          scheduler: torch.optim.lr_scheduler, epoch: int) -> None:\n",
    "    model.train()\n",
    "    data_len = len(train_loader.dataset)\n",
    "    for batch_idx, _data in enumerate(train_loader):\n",
    "        spectrograms, labels, input_lengths, label_lengths = _data\n",
    "        spectrograms, labels = spectrograms.to(device), labels.to(device)\n",
    "\n",
    "        optimizer.zero_grad()\n",
    "\n",
    "        output = model(spectrograms, input_lengths)  # (batch, time, n_class)\n",
    "        output = F.log_softmax(output, dim=2)\n",
    "        output = output.transpose(0, 1)  # (time, batch, n_class)\n",
    "\n",
    "        loss = criterion(output, labels, input_lengths, label_lengths)\n",
    "        loss.backward()\n",
    "\n",
    "        optimizer.step()\n",
    "        scheduler.step()\n",
    "        if batch_idx % 100 == 0 or batch_idx == data_len:\n",
    "            print('Train Epoch: {} [{}/{} ({:.0f}%)]\\tLoss: {:.6f}'.format(\n",
    "                epoch, batch_idx * len(spectrograms), data_len,\n",
    "                       100. * batch_idx / len(train_loader), loss.item()))\n",
    "            wandb.log({'loss_train': loss.item()})\n",
    "\n",
    "\n",
    "def test(model: nn.Module, device: str, test_loader: data.DataLoader, \n",
    "         criterion: nn.Module, epoch: int, decode: str = 'Greedy', lm: LanguageModel = None, save_path: str = None) -> None:\n",
    "    print('Beginning eval...')\n",
    "    model.eval()\n",
    "    test_loss = 0\n",
    "    test_cer, test_wer = [], []\n",
    "    with torch.no_grad():\n",
    "        start = time.time()\n",
    "        for i, _data in enumerate(test_loader):\n",
    "            spectrograms, labels, input_lengths, label_lengths = _data\n",
    "            spectrograms, labels = spectrograms.to(device), labels.to(device)\n",
    "            \n",
    "            matrix = model(spectrograms, input_lengths)  # (batch, time, n_class)\n",
    "            matrix = F.log_softmax(matrix, dim=2)\n",
    "            probs = F.softmax(matrix,dim=2)\n",
    "            matrix = matrix.transpose(0, 1)  # (time, batch, n_class)\n",
    "                \n",
    "            if i == 3:\n",
    "              np.savetxt(f\"{save_path}_matrix.txt\", probs[0].cpu().numpy())\n",
    "              np.savetxt(f\"{save_path}_labels.txt\", labels[0].cpu().numpy())\n",
    "\n",
    "            loss = criterion(matrix, labels, input_lengths, label_lengths)\n",
    "            test_loss += loss.item() / len(test_loader)\n",
    "\n",
    "            if decode == 'Greedy':\n",
    "                decoded_preds, decoded_targets = greedy_decoder(matrix.transpose(0, 1), labels, label_lengths)\n",
    "            elif decode == 'BeamSearch':\n",
    "                ## THIS IS THE FUNCTION YOU SHOULD IMPLEMENT\n",
    "                decoded_preds, decoded_targets = beam_search_decoder(probs, labels, label_lengths, input_lengths, lm=lm)\n",
    "            for j in range(len(decoded_preds)):\n",
    "                test_cer.append(utils.cer(decoded_targets[j], decoded_preds[j]))\n",
    "                test_wer.append(utils.wer(decoded_targets[j], decoded_preds[j]))\n",
    "\n",
    "    avg_cer = sum(test_cer) / len(test_cer)\n",
    "    avg_wer = sum(test_wer) / len(test_wer)\n",
    "    wandb.log({'loss_test': test_loss, 'avg_cer': avg_cer, 'avg_wer': avg_wer})\n",
    "    print(\n",
    "        'Epoch: {:d}, Test set: Average loss: {:.4f}, Average CER: {:4f} Average WER: {:.4f}\\n'.format(epoch, test_loss,\n",
    "                                                                                                       avg_cer,\n",
    "                                                                                                       avg_wer))"
   ]
  },
  {
   "cell_type": "code",
   "execution_count": null,
   "metadata": {
    "id": "iO-mKLPt7Xhb"
   },
   "outputs": [],
   "source": [
    "#!L\n",
    "#pragma async \n",
    "# PRAGMA ASYNC IS NECESSARY FOR TRAINING!\n",
    "torch.manual_seed(7)\n",
    "if torch.cuda.is_available():\n",
    "    print('GPU found! 🎉')\n",
    "    device = 'cuda'\n",
    "else:\n",
    "    print('Only CPU found! 💻')\n",
    "    device = 'cpu'\n",
    "\n",
    "verbose=False\n",
    "\n",
    "# Hyperparameters for your model\n",
    "hparams = {\n",
    "    \"n_cnn_layers\": #YOUR CODE\n",
    "    \"n_rnn_layers\": #YOUR CODE\n",
    "    \"rnn_dim\": #YOUR CODE\n",
    "    \"n_class\": 29,\n",
    "    \"n_feats\": #YOUR CODE\n",
    "    \"stride\": #YOUR CODE\n",
    "    \"dropout\": #YOUR CODE\n",
    "    \"learning_rate\":  #YOUR CODE\n",
    "    \"batch_size\":  #YOUR CODE\n",
    "    \"epochs\": #YOUR CODE\n",
    "}\n",
    "\n",
    "train_collate_fn = Collate(data_type='train')\n",
    "test_collate_fn = Collate(data_type='test')\n",
    "\n",
    "# Define Dataloyour training and test data loaders\n",
    "kwargs = {'num_workers': 2, 'pin_memory': True} if device == 'cuda' else {}\n",
    "train_loader = data.DataLoader(train_dataset, batch_size=hparams['batch_size'], shuffle=True, collate_fn=train_collate_fn, **kwargs)\n",
    "\n",
    "kwargs = {'num_workers': 1, 'pin_memory': True} if device == 'cuda' else {}\n",
    "test_loader = data.DataLoader(test_dataset, batch_size=hparams['batch_size'], shuffle=False, collate_fn=test_collate_fn, **kwargs)"
   ]
  },
  {
   "cell_type": "markdown",
   "metadata": {
    "id": "q_uhuVgw2XbB",
    "outputId": "5910f7ac-260c-4506-b910-500bc8dcd645"
   },
   "source": [
    "We recommend to use \"Weights & Biases\" for experiment logging. See their [documentation](https://docs.wandb.ai/) for detais."
   ]
  },
  {
   "cell_type": "code",
   "execution_count": null,
   "metadata": {
    "id": "3cVNk7KkY0H4"
   },
   "outputs": [],
   "source": [
    "wandb.init(project=\"speech-hw2\", \n",
    "           group=\"DNN\",\n",
    "           config=hparams)"
   ]
  },
  {
   "cell_type": "markdown",
   "metadata": {
    "id": "gB79UDNM8UOZ"
   },
   "source": [
    "## Compare different models: DNN, GRU/LSTM, bi-GRU/bi-LSTM (5 points)\n",
    "\n",
    "Train and discuss differences in the different models. \n",
    "\n",
    "Compare performance of DNN, RNN and BiRNN models in terms of:\n",
    "-  WER / CER \n",
    "-  Training time\n",
    "-  Training stability \n",
    "-  Any other properties?"
   ]
  },
  {
   "cell_type": "code",
   "execution_count": null,
   "metadata": {
    "id": "YJZH5l2YY0H5"
   },
   "outputs": [],
   "source": [
    "# Train a non-recurrent model\n",
    "ctc_dnn = CTCDNN(\n",
    "    hparams['n_cnn_layers'], hparams['n_rnn_layers'], hparams['rnn_dim'],\n",
    "    hparams['n_class'], hparams['n_feats'], hparams['stride'], hparams['dropout'])\n",
    "ctc_dnn.to(device)\n",
    "\n",
    "\n",
    "optimizer = # YOUR CODE  - SUGGESTED ADAM\n",
    "criterion = nn.CTCLoss(blank=tokenizer.get_symbol_index(BLANK_SYMBOL), reduction='mean')\n",
    "scheduler = # YOUR CODE  - SUGGESTED ONE CYCLE\n",
    "\n",
    "for epoch in tqdm(range(1, hparams['epochs'] + 1)):\n",
    "    train(ctc_dnn, device, train_loader, criterion, optimizer, scheduler, epoch)\n",
    "    utils.save_checkpoint(ctc_dnn, checkpoint_name=f'ctc_dnn_epoch{epoch}.tar')\n",
    "    wandb.save(f'ctc_dnn_epoch{epoch}.tar')\n",
    "    test(ctc_dnn, device, test_loader, criterion, epoch, 'dnn')\n",
    "\n",
    "utils.save_checkpoint(ctc_dnn, checkpoint_name=f'ctc_dnn.tar')"
   ]
  },
  {
   "cell_type": "code",
   "execution_count": null,
   "metadata": {
    "id": "EnjLgyVrWq83"
   },
   "outputs": [],
   "source": [
    "# Train a  recurrent model\n",
    "ctc_rnn = CTCRNN(\n",
    "    hparams['n_cnn_layers'], hparams['n_rnn_layers'], hparams['rnn_dim'],\n",
    "    hparams['n_class'], hparams['n_feats'], hparams['stride'], hparams['dropout']\n",
    ").to(device)\n",
    "\n",
    "optimizer = # YOUR CODE  - SUGGESTED ADAM\n",
    "criterion = nn.CTCLoss(blank=tokenizer.get_symbol_index(BLANK_SYMBOL), reduction='mean')\n",
    "scheduler = # YOUR CODE  - SUGGESTED ONE CYCLE\n",
    "\n",
    "for epoch in tqdm(range(1, hparams['epochs'] + 1)):\n",
    "    train(ctc_rnn, device, train_loader, criterion, optimizer, scheduler, epoch)\n",
    "    utils.save_checkpoint(ctc_rnn, checkpoint_name=f'ctc_rnn_epoch{epoch}.tar')\n",
    "    wandb.save(f'ctc_rnn_epoch{epoch}.tar')\n",
    "    test(ctc_rnn, device, test_loader, criterion, epoch, 'rnn')\n",
    "\n",
    "utils.save_checkpoint(ctc_rnn, checkpoint_name=f'ctc_rnn.tar')"
   ]
  },
  {
   "cell_type": "code",
   "execution_count": null,
   "metadata": {
    "id": "B4ylbT6eWqx_"
   },
   "outputs": [],
   "source": [
    "# Train a  recurrent model\n",
    "ctc_birnn = CTCBiRNN(\n",
    "    hparams['n_cnn_layers'], hparams['n_rnn_layers'], hparams['rnn_dim'],\n",
    "    hparams['n_class'], hparams['n_feats'], hparams['stride'], hparams['dropout']\n",
    ").to(device)\n",
    "\n",
    "optimizer = # YOUR CODE  - SUGGESTED ADAM\n",
    "criterion = nn.CTCLoss(blank=tokenizer.get_symbol_index(BLANK_SYMBOL), reduction='mean')\n",
    "scheduler = # YOUR CODE  - SUGGESTED ONE CYCLE\n",
    "\n",
    "for epoch in tqdm(range(1, hparams['epochs'] + 1)):\n",
    "    train(ctc_birnn, device, train_loader, criterion, optimizer, scheduler, epoch)\n",
    "    utils.save_checkpoint(ctc_birnn, checkpoint_name=f'ctc_birnn_epoch{epoch}.tar')\n",
    "    wandb.save(f'ctc_birnn_epoch{epoch}.tar')\n",
    "    test(ctc_birnn, device, test_loader, criterion, epoch, 'birnn')\n",
    "\n",
    "utils.save_checkpoint(ctc_birnn, checkpoint_name=f'ctc_birnn.tar')"
   ]
  },
  {
   "cell_type": "markdown",
   "metadata": {
    "id": "aVLB1aH_ljcw"
   },
   "source": [
    "## Compare alignments (5 points)\n",
    "\n",
    "In this section you should compare alignments obtained from different models (DNN / RNN / BiRNN). For example, you can show:\n",
    "\n",
    "- Examples of alignments and their analysis. \n",
    "- Differencies in the properties of alignment distributions over the dataset. \n",
    "- Dynamic of alignments during training (from checkpoints). \n",
    "- Connection between alignments and model loss. \n",
    "- Which models use the most blanks and why?"
   ]
  },
  {
   "cell_type": "code",
   "execution_count": null,
   "metadata": {
    "id": "lF0rnu1O3kdU"
   },
   "outputs": [],
   "source": [
    "# Some code to get you started.\n",
    "dnn_matrix = np.loadtxt('dnn_matrix.txt')\n",
    "rnn_matrix = np.loadtxt('rnn_matrix.txt')\n",
    "birnn_matrix = np.loadtxt('birnn_matrix.txt')\n",
    "\n",
    "dnn_labels = np.loadtxt('dnn_labels.txt', dtype=np.int32)\n",
    "rnn_labels = np.loadtxt('rnn_labels.txt', dtype=np.int32)\n",
    "birnn_labels = np.loadtxt('birnn_labels.txt', dtype=np.int32)\n",
    "\n",
    "dnn_align = soft_alignment(dnn_labels, dnn_matrix)\n",
    "rnn_align = soft_alignment(rnn_labels, rnn_matrix)\n",
    "birnn_align = soft_alignment(birnn_labels, birnn_matrix)\n",
    "\n",
    "f, ax = plt.subplots(3, 2, dpi=75, figsize=(15, 15))\n",
    "\n",
    "\n",
    "im = ax[0,0].imshow(dnn_align, aspect='auto', interpolation='nearest')\n",
    "ax[0,0].set_title(\"DNN Alignment\")\n",
    "ax[0,0].set_ylabel(\"Phonemes\")\n",
    "ax[0,0].set_xlabel(\"Time\")\n",
    "f.colorbar(im, ax=ax[0,0])\n",
    "\n",
    "im = ax[0,1].imshow(np.log(dnn_align), aspect='auto', interpolation='nearest')\n",
    "ax[0,1].set_title(\"DNN Alignment in log scale\")\n",
    "ax[0,1].set_ylabel(\"Phonemes\")\n",
    "ax[0,1].set_xlabel(\"Time\")\n",
    "f.colorbar(im, ax=ax[0,1])\n",
    "\n",
    "im = ax[1,0].imshow(dnn_align, aspect='auto', interpolation='nearest')\n",
    "ax[1,0].set_title(\"RNN Alignment\")\n",
    "ax[1,0].set_ylabel(\"Phonemes\")\n",
    "ax[1,0].set_xlabel(\"Time\")\n",
    "f.colorbar(im, ax=ax[1,0])\n",
    "\n",
    "im = ax[1,1].imshow(np.log(dnn_align), aspect='auto', interpolation='nearest')\n",
    "ax[1,1].set_title(\"RNN Alignment in log scale\")\n",
    "ax[1,1].set_ylabel(\"Phonemes\")\n",
    "ax[1,1].set_xlabel(\"Time\")\n",
    "f.colorbar(im, ax=ax[1,1])\n",
    "\n",
    "im = ax[2,0].imshow(dnn_align, aspect='auto', interpolation='nearest')\n",
    "ax[2,0].set_title(\"BiRNN Alignment\")\n",
    "ax[2,0].set_ylabel(\"Phonemes\")\n",
    "ax[2,0].set_xlabel(\"Time\")\n",
    "f.colorbar(im, ax=ax[2,0])\n",
    "\n",
    "im = ax[2,1].imshow(np.log(dnn_align), aspect='auto', interpolation='nearest')\n",
    "ax[2,1].set_title(\"BiRNN Alignment in log scale\")\n",
    "ax[2,1].set_ylabel(\"Phonemes\")\n",
    "ax[2,1].set_xlabel(\"Time\")\n",
    "f.colorbar(im, ax=ax[2,1])\n",
    "\n",
    "plt.tight_layout()"
   ]
  }
 ],
 "metadata": {
  "accelerator": "GPU",
  "colab": {
   "collapsed_sections": [
    "lnUmkwSbY0Ho",
    "qg4JIKs4EYtQ",
    "GLRub0wZY0Hs",
    "Zc1A7_xcwiT5",
    "3cP79coczzan",
    "hI6wj5hrz9vJ",
    "txfmuahS0Apx",
    "1nu4ISUMGt-J",
    "AOSUt5iox8B6",
    "TULzSmkZxgEn",
    "PfZPlnRjjmOJ",
    "oe_g0pXw21Tn",
    "gB79UDNM8UOZ"
   ],
   "name": "homework2_student.ipynb",
   "provenance": [],
   "toc_visible": true
  },
  "kernelspec": {
   "display_name": "Python 3 (ipykernel)",
   "language": "python",
   "name": "python3"
  },
  "language_info": {
   "codemirror_mode": {
    "name": "ipython",
    "version": 3
   },
   "file_extension": ".py",
   "mimetype": "text/x-python",
   "name": "python",
   "nbconvert_exporter": "python",
   "pygments_lexer": "ipython3",
   "version": "3.9.7"
  },
  "pycharm": {
   "stem_cell": {
    "cell_type": "raw",
    "metadata": {
     "collapsed": false
    },
    "source": []
   }
  },
  "widgets": {
   "application/vnd.jupyter.widget-state+json": {
    "00fad4fd55734855b6c7a6064f5f5539": {
     "model_module": "@jupyter-widgets/controls",
     "model_module_version": "1.5.0",
     "model_name": "DescriptionStyleModel",
     "state": {
      "_model_module": "@jupyter-widgets/controls",
      "_model_module_version": "1.5.0",
      "_model_name": "DescriptionStyleModel",
      "_view_count": null,
      "_view_module": "@jupyter-widgets/base",
      "_view_module_version": "1.2.0",
      "_view_name": "StyleView",
      "description_width": ""
     }
    },
    "0aaae5f2d48346d0b628c190a3f303c6": {
     "model_module": "@jupyter-widgets/controls",
     "model_module_version": "1.5.0",
     "model_name": "DescriptionStyleModel",
     "state": {
      "_model_module": "@jupyter-widgets/controls",
      "_model_module_version": "1.5.0",
      "_model_name": "DescriptionStyleModel",
      "_view_count": null,
      "_view_module": "@jupyter-widgets/base",
      "_view_module_version": "1.2.0",
      "_view_name": "StyleView",
      "description_width": ""
     }
    },
    "22067a7eff2846d980ed8709b5ccf34d": {
     "model_module": "@jupyter-widgets/base",
     "model_module_version": "1.2.0",
     "model_name": "LayoutModel",
     "state": {
      "_model_module": "@jupyter-widgets/base",
      "_model_module_version": "1.2.0",
      "_model_name": "LayoutModel",
      "_view_count": null,
      "_view_module": "@jupyter-widgets/base",
      "_view_module_version": "1.2.0",
      "_view_name": "LayoutView",
      "align_content": null,
      "align_items": null,
      "align_self": null,
      "border": null,
      "bottom": null,
      "display": null,
      "flex": null,
      "flex_flow": null,
      "grid_area": null,
      "grid_auto_columns": null,
      "grid_auto_flow": null,
      "grid_auto_rows": null,
      "grid_column": null,
      "grid_gap": null,
      "grid_row": null,
      "grid_template_areas": null,
      "grid_template_columns": null,
      "grid_template_rows": null,
      "height": null,
      "justify_content": null,
      "justify_items": null,
      "left": null,
      "margin": null,
      "max_height": null,
      "max_width": null,
      "min_height": null,
      "min_width": null,
      "object_fit": null,
      "object_position": null,
      "order": null,
      "overflow": null,
      "overflow_x": null,
      "overflow_y": null,
      "padding": null,
      "right": null,
      "top": null,
      "visibility": null,
      "width": null
     }
    },
    "3446a1862240433986859ff654da072e": {
     "model_module": "@jupyter-widgets/base",
     "model_module_version": "1.2.0",
     "model_name": "LayoutModel",
     "state": {
      "_model_module": "@jupyter-widgets/base",
      "_model_module_version": "1.2.0",
      "_model_name": "LayoutModel",
      "_view_count": null,
      "_view_module": "@jupyter-widgets/base",
      "_view_module_version": "1.2.0",
      "_view_name": "LayoutView",
      "align_content": null,
      "align_items": null,
      "align_self": null,
      "border": null,
      "bottom": null,
      "display": null,
      "flex": null,
      "flex_flow": null,
      "grid_area": null,
      "grid_auto_columns": null,
      "grid_auto_flow": null,
      "grid_auto_rows": null,
      "grid_column": null,
      "grid_gap": null,
      "grid_row": null,
      "grid_template_areas": null,
      "grid_template_columns": null,
      "grid_template_rows": null,
      "height": null,
      "justify_content": null,
      "justify_items": null,
      "left": null,
      "margin": null,
      "max_height": null,
      "max_width": null,
      "min_height": null,
      "min_width": null,
      "object_fit": null,
      "object_position": null,
      "order": null,
      "overflow": null,
      "overflow_x": null,
      "overflow_y": null,
      "padding": null,
      "right": null,
      "top": null,
      "visibility": null,
      "width": null
     }
    },
    "39b18c3bb5e74345af203a673160e75a": {
     "model_module": "@jupyter-widgets/controls",
     "model_module_version": "1.5.0",
     "model_name": "HTMLModel",
     "state": {
      "_dom_classes": [],
      "_model_module": "@jupyter-widgets/controls",
      "_model_module_version": "1.5.0",
      "_model_name": "HTMLModel",
      "_view_count": null,
      "_view_module": "@jupyter-widgets/controls",
      "_view_module_version": "1.5.0",
      "_view_name": "HTMLView",
      "description": "",
      "description_tooltip": null,
      "layout": "IPY_MODEL_c5f74921d7a241abb0faf420038bba2f",
      "placeholder": "​",
      "style": "IPY_MODEL_00fad4fd55734855b6c7a6064f5f5539",
      "value": "100%"
     }
    },
    "3d20813547484685b82488b48047f8cb": {
     "model_module": "@jupyter-widgets/base",
     "model_module_version": "1.2.0",
     "model_name": "LayoutModel",
     "state": {
      "_model_module": "@jupyter-widgets/base",
      "_model_module_version": "1.2.0",
      "_model_name": "LayoutModel",
      "_view_count": null,
      "_view_module": "@jupyter-widgets/base",
      "_view_module_version": "1.2.0",
      "_view_name": "LayoutView",
      "align_content": null,
      "align_items": null,
      "align_self": null,
      "border": null,
      "bottom": null,
      "display": null,
      "flex": null,
      "flex_flow": null,
      "grid_area": null,
      "grid_auto_columns": null,
      "grid_auto_flow": null,
      "grid_auto_rows": null,
      "grid_column": null,
      "grid_gap": null,
      "grid_row": null,
      "grid_template_areas": null,
      "grid_template_columns": null,
      "grid_template_rows": null,
      "height": null,
      "justify_content": null,
      "justify_items": null,
      "left": null,
      "margin": null,
      "max_height": null,
      "max_width": null,
      "min_height": null,
      "min_width": null,
      "object_fit": null,
      "object_position": null,
      "order": null,
      "overflow": null,
      "overflow_x": null,
      "overflow_y": null,
      "padding": null,
      "right": null,
      "top": null,
      "visibility": null,
      "width": null
     }
    },
    "4c4bfd62d26b4a028382ee2f57172d4a": {
     "model_module": "@jupyter-widgets/controls",
     "model_module_version": "1.5.0",
     "model_name": "DescriptionStyleModel",
     "state": {
      "_model_module": "@jupyter-widgets/controls",
      "_model_module_version": "1.5.0",
      "_model_name": "DescriptionStyleModel",
      "_view_count": null,
      "_view_module": "@jupyter-widgets/base",
      "_view_module_version": "1.2.0",
      "_view_name": "StyleView",
      "description_width": ""
     }
    },
    "57612ae51b3b48c9be2fec9ffc78feae": {
     "model_module": "@jupyter-widgets/controls",
     "model_module_version": "1.5.0",
     "model_name": "FloatProgressModel",
     "state": {
      "_dom_classes": [],
      "_model_module": "@jupyter-widgets/controls",
      "_model_module_version": "1.5.0",
      "_model_name": "FloatProgressModel",
      "_view_count": null,
      "_view_module": "@jupyter-widgets/controls",
      "_view_module_version": "1.5.0",
      "_view_name": "ProgressView",
      "bar_style": "success",
      "description": "",
      "description_tooltip": null,
      "layout": "IPY_MODEL_22067a7eff2846d980ed8709b5ccf34d",
      "max": 346663984,
      "min": 0,
      "orientation": "horizontal",
      "style": "IPY_MODEL_ebc2bb77d43e46d9be161b708f5aa72c",
      "value": 346663984
     }
    },
    "5d27efc374ef4ee194630ef570e7711a": {
     "model_module": "@jupyter-widgets/controls",
     "model_module_version": "1.5.0",
     "model_name": "HTMLModel",
     "state": {
      "_dom_classes": [],
      "_model_module": "@jupyter-widgets/controls",
      "_model_module_version": "1.5.0",
      "_model_name": "HTMLModel",
      "_view_count": null,
      "_view_module": "@jupyter-widgets/controls",
      "_view_module_version": "1.5.0",
      "_view_name": "HTMLView",
      "description": "",
      "description_tooltip": null,
      "layout": "IPY_MODEL_c6e704f8a8d94193bab65f6b9fa8b923",
      "placeholder": "​",
      "style": "IPY_MODEL_4c4bfd62d26b4a028382ee2f57172d4a",
      "value": "100%"
     }
    },
    "5de35340d6844d229bd8ce7aef425e29": {
     "model_module": "@jupyter-widgets/controls",
     "model_module_version": "1.5.0",
     "model_name": "HBoxModel",
     "state": {
      "_dom_classes": [],
      "_model_module": "@jupyter-widgets/controls",
      "_model_module_version": "1.5.0",
      "_model_name": "HBoxModel",
      "_view_count": null,
      "_view_module": "@jupyter-widgets/controls",
      "_view_module_version": "1.5.0",
      "_view_name": "HBoxView",
      "box_style": "",
      "children": [
       "IPY_MODEL_39b18c3bb5e74345af203a673160e75a",
       "IPY_MODEL_6ae4780ddda84918ac85b1b2df8b8d35",
       "IPY_MODEL_f270e58c76234ed9a532ddf73fef56b9"
      ],
      "layout": "IPY_MODEL_3d20813547484685b82488b48047f8cb"
     }
    },
    "6ae4780ddda84918ac85b1b2df8b8d35": {
     "model_module": "@jupyter-widgets/controls",
     "model_module_version": "1.5.0",
     "model_name": "FloatProgressModel",
     "state": {
      "_dom_classes": [],
      "_model_module": "@jupyter-widgets/controls",
      "_model_module_version": "1.5.0",
      "_model_name": "FloatProgressModel",
      "_view_count": null,
      "_view_module": "@jupyter-widgets/controls",
      "_view_module_version": "1.5.0",
      "_view_name": "ProgressView",
      "bar_style": "success",
      "description": "",
      "description_tooltip": null,
      "layout": "IPY_MODEL_3446a1862240433986859ff654da072e",
      "max": 6387309499,
      "min": 0,
      "orientation": "horizontal",
      "style": "IPY_MODEL_fea0998bea934670936c784dd9fc39c9",
      "value": 6387309499
     }
    },
    "831bda93ff3c47f7aa656c7d74b35307": {
     "model_module": "@jupyter-widgets/base",
     "model_module_version": "1.2.0",
     "model_name": "LayoutModel",
     "state": {
      "_model_module": "@jupyter-widgets/base",
      "_model_module_version": "1.2.0",
      "_model_name": "LayoutModel",
      "_view_count": null,
      "_view_module": "@jupyter-widgets/base",
      "_view_module_version": "1.2.0",
      "_view_name": "LayoutView",
      "align_content": null,
      "align_items": null,
      "align_self": null,
      "border": null,
      "bottom": null,
      "display": null,
      "flex": null,
      "flex_flow": null,
      "grid_area": null,
      "grid_auto_columns": null,
      "grid_auto_flow": null,
      "grid_auto_rows": null,
      "grid_column": null,
      "grid_gap": null,
      "grid_row": null,
      "grid_template_areas": null,
      "grid_template_columns": null,
      "grid_template_rows": null,
      "height": null,
      "justify_content": null,
      "justify_items": null,
      "left": null,
      "margin": null,
      "max_height": null,
      "max_width": null,
      "min_height": null,
      "min_width": null,
      "object_fit": null,
      "object_position": null,
      "order": null,
      "overflow": null,
      "overflow_x": null,
      "overflow_y": null,
      "padding": null,
      "right": null,
      "top": null,
      "visibility": null,
      "width": null
     }
    },
    "91a64e7a24044c7cafa46a8fb7674e8d": {
     "model_module": "@jupyter-widgets/controls",
     "model_module_version": "1.5.0",
     "model_name": "HTMLModel",
     "state": {
      "_dom_classes": [],
      "_model_module": "@jupyter-widgets/controls",
      "_model_module_version": "1.5.0",
      "_model_name": "HTMLModel",
      "_view_count": null,
      "_view_module": "@jupyter-widgets/controls",
      "_view_module_version": "1.5.0",
      "_view_name": "HTMLView",
      "description": "",
      "description_tooltip": null,
      "layout": "IPY_MODEL_eddb4d0949074c02b2c11bada933e0dc",
      "placeholder": "​",
      "style": "IPY_MODEL_0aaae5f2d48346d0b628c190a3f303c6",
      "value": " 331M/331M [00:13&lt;00:00, 28.3MB/s]"
     }
    },
    "a5175588d5a24d8ba90d699887e5b8bb": {
     "model_module": "@jupyter-widgets/base",
     "model_module_version": "1.2.0",
     "model_name": "LayoutModel",
     "state": {
      "_model_module": "@jupyter-widgets/base",
      "_model_module_version": "1.2.0",
      "_model_name": "LayoutModel",
      "_view_count": null,
      "_view_module": "@jupyter-widgets/base",
      "_view_module_version": "1.2.0",
      "_view_name": "LayoutView",
      "align_content": null,
      "align_items": null,
      "align_self": null,
      "border": null,
      "bottom": null,
      "display": null,
      "flex": null,
      "flex_flow": null,
      "grid_area": null,
      "grid_auto_columns": null,
      "grid_auto_flow": null,
      "grid_auto_rows": null,
      "grid_column": null,
      "grid_gap": null,
      "grid_row": null,
      "grid_template_areas": null,
      "grid_template_columns": null,
      "grid_template_rows": null,
      "height": null,
      "justify_content": null,
      "justify_items": null,
      "left": null,
      "margin": null,
      "max_height": null,
      "max_width": null,
      "min_height": null,
      "min_width": null,
      "object_fit": null,
      "object_position": null,
      "order": null,
      "overflow": null,
      "overflow_x": null,
      "overflow_y": null,
      "padding": null,
      "right": null,
      "top": null,
      "visibility": null,
      "width": null
     }
    },
    "c5f74921d7a241abb0faf420038bba2f": {
     "model_module": "@jupyter-widgets/base",
     "model_module_version": "1.2.0",
     "model_name": "LayoutModel",
     "state": {
      "_model_module": "@jupyter-widgets/base",
      "_model_module_version": "1.2.0",
      "_model_name": "LayoutModel",
      "_view_count": null,
      "_view_module": "@jupyter-widgets/base",
      "_view_module_version": "1.2.0",
      "_view_name": "LayoutView",
      "align_content": null,
      "align_items": null,
      "align_self": null,
      "border": null,
      "bottom": null,
      "display": null,
      "flex": null,
      "flex_flow": null,
      "grid_area": null,
      "grid_auto_columns": null,
      "grid_auto_flow": null,
      "grid_auto_rows": null,
      "grid_column": null,
      "grid_gap": null,
      "grid_row": null,
      "grid_template_areas": null,
      "grid_template_columns": null,
      "grid_template_rows": null,
      "height": null,
      "justify_content": null,
      "justify_items": null,
      "left": null,
      "margin": null,
      "max_height": null,
      "max_width": null,
      "min_height": null,
      "min_width": null,
      "object_fit": null,
      "object_position": null,
      "order": null,
      "overflow": null,
      "overflow_x": null,
      "overflow_y": null,
      "padding": null,
      "right": null,
      "top": null,
      "visibility": null,
      "width": null
     }
    },
    "c6e704f8a8d94193bab65f6b9fa8b923": {
     "model_module": "@jupyter-widgets/base",
     "model_module_version": "1.2.0",
     "model_name": "LayoutModel",
     "state": {
      "_model_module": "@jupyter-widgets/base",
      "_model_module_version": "1.2.0",
      "_model_name": "LayoutModel",
      "_view_count": null,
      "_view_module": "@jupyter-widgets/base",
      "_view_module_version": "1.2.0",
      "_view_name": "LayoutView",
      "align_content": null,
      "align_items": null,
      "align_self": null,
      "border": null,
      "bottom": null,
      "display": null,
      "flex": null,
      "flex_flow": null,
      "grid_area": null,
      "grid_auto_columns": null,
      "grid_auto_flow": null,
      "grid_auto_rows": null,
      "grid_column": null,
      "grid_gap": null,
      "grid_row": null,
      "grid_template_areas": null,
      "grid_template_columns": null,
      "grid_template_rows": null,
      "height": null,
      "justify_content": null,
      "justify_items": null,
      "left": null,
      "margin": null,
      "max_height": null,
      "max_width": null,
      "min_height": null,
      "min_width": null,
      "object_fit": null,
      "object_position": null,
      "order": null,
      "overflow": null,
      "overflow_x": null,
      "overflow_y": null,
      "padding": null,
      "right": null,
      "top": null,
      "visibility": null,
      "width": null
     }
    },
    "d859df92a88742adb725137b0105d40b": {
     "model_module": "@jupyter-widgets/controls",
     "model_module_version": "1.5.0",
     "model_name": "HBoxModel",
     "state": {
      "_dom_classes": [],
      "_model_module": "@jupyter-widgets/controls",
      "_model_module_version": "1.5.0",
      "_model_name": "HBoxModel",
      "_view_count": null,
      "_view_module": "@jupyter-widgets/controls",
      "_view_module_version": "1.5.0",
      "_view_name": "HBoxView",
      "box_style": "",
      "children": [
       "IPY_MODEL_5d27efc374ef4ee194630ef570e7711a",
       "IPY_MODEL_57612ae51b3b48c9be2fec9ffc78feae",
       "IPY_MODEL_91a64e7a24044c7cafa46a8fb7674e8d"
      ],
      "layout": "IPY_MODEL_831bda93ff3c47f7aa656c7d74b35307"
     }
    },
    "ebc2bb77d43e46d9be161b708f5aa72c": {
     "model_module": "@jupyter-widgets/controls",
     "model_module_version": "1.5.0",
     "model_name": "ProgressStyleModel",
     "state": {
      "_model_module": "@jupyter-widgets/controls",
      "_model_module_version": "1.5.0",
      "_model_name": "ProgressStyleModel",
      "_view_count": null,
      "_view_module": "@jupyter-widgets/base",
      "_view_module_version": "1.2.0",
      "_view_name": "StyleView",
      "bar_color": null,
      "description_width": ""
     }
    },
    "eddb4d0949074c02b2c11bada933e0dc": {
     "model_module": "@jupyter-widgets/base",
     "model_module_version": "1.2.0",
     "model_name": "LayoutModel",
     "state": {
      "_model_module": "@jupyter-widgets/base",
      "_model_module_version": "1.2.0",
      "_model_name": "LayoutModel",
      "_view_count": null,
      "_view_module": "@jupyter-widgets/base",
      "_view_module_version": "1.2.0",
      "_view_name": "LayoutView",
      "align_content": null,
      "align_items": null,
      "align_self": null,
      "border": null,
      "bottom": null,
      "display": null,
      "flex": null,
      "flex_flow": null,
      "grid_area": null,
      "grid_auto_columns": null,
      "grid_auto_flow": null,
      "grid_auto_rows": null,
      "grid_column": null,
      "grid_gap": null,
      "grid_row": null,
      "grid_template_areas": null,
      "grid_template_columns": null,
      "grid_template_rows": null,
      "height": null,
      "justify_content": null,
      "justify_items": null,
      "left": null,
      "margin": null,
      "max_height": null,
      "max_width": null,
      "min_height": null,
      "min_width": null,
      "object_fit": null,
      "object_position": null,
      "order": null,
      "overflow": null,
      "overflow_x": null,
      "overflow_y": null,
      "padding": null,
      "right": null,
      "top": null,
      "visibility": null,
      "width": null
     }
    },
    "f270e58c76234ed9a532ddf73fef56b9": {
     "model_module": "@jupyter-widgets/controls",
     "model_module_version": "1.5.0",
     "model_name": "HTMLModel",
     "state": {
      "_dom_classes": [],
      "_model_module": "@jupyter-widgets/controls",
      "_model_module_version": "1.5.0",
      "_model_name": "HTMLModel",
      "_view_count": null,
      "_view_module": "@jupyter-widgets/controls",
      "_view_module_version": "1.5.0",
      "_view_name": "HTMLView",
      "description": "",
      "description_tooltip": null,
      "layout": "IPY_MODEL_a5175588d5a24d8ba90d699887e5b8bb",
      "placeholder": "​",
      "style": "IPY_MODEL_fabcad8fad7d40c5bd07debd55b0a184",
      "value": " 5.95G/5.95G [04:01&lt;00:00, 26.9MB/s]"
     }
    },
    "fabcad8fad7d40c5bd07debd55b0a184": {
     "model_module": "@jupyter-widgets/controls",
     "model_module_version": "1.5.0",
     "model_name": "DescriptionStyleModel",
     "state": {
      "_model_module": "@jupyter-widgets/controls",
      "_model_module_version": "1.5.0",
      "_model_name": "DescriptionStyleModel",
      "_view_count": null,
      "_view_module": "@jupyter-widgets/base",
      "_view_module_version": "1.2.0",
      "_view_name": "StyleView",
      "description_width": ""
     }
    },
    "fea0998bea934670936c784dd9fc39c9": {
     "model_module": "@jupyter-widgets/controls",
     "model_module_version": "1.5.0",
     "model_name": "ProgressStyleModel",
     "state": {
      "_model_module": "@jupyter-widgets/controls",
      "_model_module_version": "1.5.0",
      "_model_name": "ProgressStyleModel",
      "_view_count": null,
      "_view_module": "@jupyter-widgets/base",
      "_view_module_version": "1.2.0",
      "_view_name": "StyleView",
      "bar_color": null,
      "description_width": ""
     }
    }
   }
  }
 },
 "nbformat": 4,
 "nbformat_minor": 4
}
